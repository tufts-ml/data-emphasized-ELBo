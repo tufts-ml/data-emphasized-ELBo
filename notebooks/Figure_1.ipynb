{
 "cells": [
  {
   "cell_type": "code",
   "execution_count": 1,
   "metadata": {},
   "outputs": [],
   "source": [
    "import types\n",
    "import numpy as np\n",
    "import pandas as pd\n",
    "import matplotlib.pyplot as plt\n",
    "plt.rcParams.update({'font.size': 12})\n",
    "# PyTorch\n",
    "import torch\n",
    "import torchvision\n",
    "import torchmetrics"
   ]
  },
  {
   "cell_type": "code",
   "execution_count": 2,
   "metadata": {},
   "outputs": [],
   "source": [
    "import sys\n",
    "sys.path.append('../src/')\n",
    "\n",
    "%load_ext autoreload\n",
    "%autoreload 2\n",
    "# Importing our custom module(s)\n",
    "import losses\n",
    "import utils"
   ]
  },
  {
   "cell_type": "code",
   "execution_count": 3,
   "metadata": {},
   "outputs": [
    {
     "name": "stdout",
     "output_type": "stream",
     "text": [
      "Files already downloaded and verified\n",
      "Files already downloaded and verified\n"
     ]
    }
   ],
   "source": [
    "dataset_directory = '/cluster/tufts/hugheslab/eharve06/CIFAR-10'\n",
    "n = 1000\n",
    "tune = False\n",
    "random_state = 1001\n",
    "augmented_train_dataset, train_dataset, val_or_test_dataset = utils.get_cifar10_datasets(dataset_directory, n, tune, random_state)"
   ]
  },
  {
   "cell_type": "code",
   "execution_count": 4,
   "metadata": {},
   "outputs": [],
   "source": [
    "batch_size = 128\n",
    "num_workers = 0\n",
    "augmented_train_loader = torch.utils.data.DataLoader(augmented_train_dataset, batch_size=min(batch_size, len(augmented_train_dataset)), shuffle=True, num_workers=num_workers, drop_last=True)\n",
    "train_loader = torch.utils.data.DataLoader(train_dataset, batch_size=min(batch_size, len(train_dataset)), num_workers=num_workers)\n",
    "val_or_test_loader = torch.utils.data.DataLoader(val_or_test_dataset, batch_size=batch_size, num_workers=num_workers)"
   ]
  },
  {
   "cell_type": "code",
   "execution_count": 5,
   "metadata": {},
   "outputs": [
    {
     "name": "stdout",
     "output_type": "stream",
     "text": [
      "cuda:0\n"
     ]
    }
   ],
   "source": [
    "num_classes = 10\n",
    "device = torch.device('cuda:0' if torch.cuda.is_available() else 'cpu')\n",
    "print(device)\n",
    "\n",
    "model = torchvision.models.resnet50()\n",
    "model.fc = torch.nn.Linear(in_features=2048, out_features=num_classes, bias=True)\n",
    "model.sigma_param = torch.nn.Parameter(torch.log(torch.expm1(torch.tensor(1e-4, device=device))))\n",
    "utils.add_variational_layers(model, model.sigma_param)\n",
    "model.use_posterior = types.MethodType(utils.use_posterior, model)\n",
    "model.to(device)\n",
    "\n",
    "bb_loc = torch.load('/cluster/tufts/hugheslab/eharve06/resnet50_torchvision/resnet50_torchvision_mean.pt', map_location=torch.device('cpu')).to(device)\n",
    "criterion = criterion = losses.L2KappaELBOLoss(bb_loc, 1.0, model.sigma_param)"
   ]
  },
  {
   "cell_type": "code",
   "execution_count": null,
   "metadata": {},
   "outputs": [],
   "source": [
    "good_model_with_kappa = []\n",
    "bad_model_with_kappa = []\n",
    "good_model_without_kappa = []\n",
    "bad_model_without_kappa = []\n",
    "\n",
    "checkpoint = torch.load('/cluster/tufts/hugheslab/eharve06/data-emphasized-ELBo/experiments/retrained_CIFAR-10_VI/l2-sp_kappa=23528.522_lr_0=0.001_n=1000_random_state=1001.pt', map_location=torch.device('cpu'))\n",
    "model.load_state_dict(checkpoint)\n",
    "model.to(device)\n",
    "\n",
    "model.use_posterior(True)\n",
    "num_samples = 10\n",
    "sample_metrics = [utils.evaluate(model, criterion, val_or_test_loader, num_classes=num_classes) for _ in range(num_samples)]\n",
    "params = utils.flatten_params(model)\n",
    "bb_loc_diff_norm = ((bb_loc - params[:len(bb_loc)])**2).sum()\n",
    "clf_loc_diff_norm = (params[len(bb_loc):]**2).sum()\n",
    "for lambd in np.logspace(-9, 3, 1000):\n",
    "    lambda_star = torch.tensor(lambd)\n",
    "    tau_star = torch.tensor(lambd)\n",
    "    bb_term1 = (torch.nn.functional.softplus(model.sigma_param)**2/lambda_star) * len(params[:len(bb_loc)])\n",
    "    bb_term2 = (1/lambda_star) * bb_loc_diff_norm\n",
    "    bb_term3 = (len(params[:len(bb_loc)]) * torch.log(lambda_star)) - (len(params[:len(bb_loc)]) * torch.log(torch.nn.functional.softplus(model.sigma_param)**2))\n",
    "    bb_kl = (1/2) * (bb_term1 + bb_term2 - len(params[:len(bb_loc)]) + bb_term3)\n",
    "    clf_term1 = (torch.nn.functional.softplus(model.sigma_param)**2/tau_star) * len(params[len(bb_loc):])\n",
    "    clf_term2 = (1/tau_star) * clf_loc_diff_norm\n",
    "    clf_term3 = (len(params[len(bb_loc):]) * torch.log(tau_star)) - (len(params[len(bb_loc):]) * torch.log(torch.nn.functional.softplus(model.sigma_param)**2))\n",
    "    clf_kl = (1/2) * (clf_term1 + clf_term2 - len(params[len(bb_loc):]) + clf_term3)\n",
    "    good_model_with_kappa.append(sum(len(params) * metrics['nll'] + bb_kl + clf_kl for metrics in sample_metrics).item() / num_samples)\n",
    "    good_model_without_kappa.append(sum(n * metrics['nll'] + bb_kl + clf_kl for metrics in sample_metrics).item() / num_samples)\n",
    "    \n",
    "checkpoint = torch.load('/cluster/tufts/hugheslab/eharve06/data-emphasized-ELBo/experiments/retrained_CIFAR-10_VI/l2-sp_kappa=1.0_lr_0=0.001_n=1000_random_state=1001.pt', map_location=torch.device('cpu'))\n",
    "model.load_state_dict(checkpoint)\n",
    "model.to(device)\n",
    "sample_metrics = [utils.evaluate(model, criterion, val_or_test_loader, num_classes=num_classes) for _ in range(num_samples)]\n",
    "params = utils.flatten_params(model)\n",
    "bb_loc_diff_norm = ((bb_loc - params[:len(bb_loc)])**2).sum()\n",
    "clf_loc_diff_norm = (params[len(bb_loc):]**2).sum()\n",
    "for lambd in np.logspace(-9, 3, 1000):\n",
    "    lambda_star = torch.tensor(lambd)\n",
    "    tau_star = torch.tensor(lambd)\n",
    "    bb_term1 = (torch.nn.functional.softplus(model.sigma_param)**2/lambda_star) * len(params[:len(bb_loc)])\n",
    "    bb_term2 = (1/lambda_star) * bb_loc_diff_norm\n",
    "    bb_term3 = (len(params[:len(bb_loc)]) * torch.log(lambda_star)) - (len(params[:len(bb_loc)]) * torch.log(torch.nn.functional.softplus(model.sigma_param)**2))\n",
    "    bb_kl = (1/2) * (bb_term1 + bb_term2 - len(params[:len(bb_loc)]) + bb_term3)\n",
    "    clf_term1 = (torch.nn.functional.softplus(model.sigma_param)**2/tau_star) * len(params[len(bb_loc):])\n",
    "    clf_term2 = (1/tau_star) * clf_loc_diff_norm\n",
    "    clf_term3 = (len(params[len(bb_loc):]) * torch.log(tau_star)) - (len(params[len(bb_loc):]) * torch.log(torch.nn.functional.softplus(model.sigma_param)**2))\n",
    "    clf_kl = (1/2) * (clf_term1 + clf_term2 - len(params[len(bb_loc):]) + clf_term3)\n",
    "    bad_model_with_kappa.append(sum(len(params) * metrics['nll'] + bb_kl + clf_kl for metrics in sample_metrics).item() / num_samples)\n",
    "    bad_model_without_kappa.append(sum(n * metrics['nll'] + bb_kl + clf_kl for metrics in sample_metrics).item() / num_samples)"
   ]
  },
  {
   "cell_type": "code",
   "execution_count": null,
   "metadata": {},
   "outputs": [],
   "source": [
    "ncols, nrows = 2, 1\n",
    "\n",
    "fig, axs = plt.subplots(figsize=(4*ncols, 3*nrows), dpi=300, ncols=ncols, nrows=nrows, sharey=True)\n",
    "axs[0].plot(np.logspace(-9, 3, 1000), -np.array(bad_model_without_kappa), color='#E377C2', label='Test accuracy: 28.6\\nTest NLL: 2.30', linewidth=3)\n",
    "axs[0].plot(np.logspace(-9, 3, 1000), -np.array(good_model_without_kappa), color='#9467BD', label='Test accuracy: 87.5\\nTest NLL: 0.39', linewidth=3)\n",
    "axs[0].set_xscale('log')\n",
    "axs[0].set_yscale('symlog', linthresh=0.1)\n",
    "axs[0].set_ylim(-1e9, -1e3)\n",
    "axs[0].set_xlabel(r'$\\lambda, \\tau$')\n",
    "axs[0].set_ylabel('ELBo')\n",
    "axs[0].legend()\n",
    "axs[0].grid()\n",
    "axs[1].plot(np.logspace(-9, 3, 1000), -np.array(bad_model_with_kappa), color='#E377C2', linewidth=3)\n",
    "axs[1].plot(np.logspace(-9, 3, 1000), -np.array(good_model_with_kappa), color='#9467BD', linewidth=3)\n",
    "axs[1].set_xscale('log')\n",
    "axs[1].set_yscale('symlog', linthresh=0.1)\n",
    "axs[1].set_ylim(-1e9, -1e3)\n",
    "axs[1].set_xlabel(r'$\\lambda, \\tau$')\n",
    "axs[1].set_ylabel(r'DE ELBo (ours)')\n",
    "axs[1].grid()\n",
    "fig.tight_layout()\n",
    "fig.savefig('elbo_comparison.pdf', bbox_inches='tight')\n",
    "plt.show()"
   ]
  },
  {
   "cell_type": "code",
   "execution_count": null,
   "metadata": {},
   "outputs": [],
   "source": []
  }
 ],
 "metadata": {
  "kernelspec": {
   "display_name": "bdl-transfer-learning",
   "language": "python",
   "name": "bdl-transfer-learning"
  },
  "language_info": {
   "codemirror_mode": {
    "name": "ipython",
    "version": 3
   },
   "file_extension": ".py",
   "mimetype": "text/x-python",
   "name": "python",
   "nbconvert_exporter": "python",
   "pygments_lexer": "ipython3",
   "version": "3.8.0"
  }
 },
 "nbformat": 4,
 "nbformat_minor": 2
}

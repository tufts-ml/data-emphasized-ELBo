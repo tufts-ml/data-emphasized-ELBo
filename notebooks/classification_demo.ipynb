{
 "cells": [
  {
   "cell_type": "code",
   "execution_count": 1,
   "metadata": {},
   "outputs": [],
   "source": [
    "import tqdm\n",
    "import itertools\n",
    "import types\n",
    "import math\n",
    "import numpy as np\n",
    "import matplotlib.pyplot as plt\n",
    "plt.rcParams.update({'font.size': 14})\n",
    "from matplotlib.colors import LinearSegmentedColormap\n",
    "from sklearn.datasets import make_moons\n",
    "# PyTorch\n",
    "import torch\n",
    "torch.manual_seed(42)\n",
    "import gpytorch"
   ]
  },
  {
   "cell_type": "code",
   "execution_count": 2,
   "metadata": {},
   "outputs": [],
   "source": [
    "import sys\n",
    "sys.path.append('../src/')\n",
    "\n",
    "%load_ext autoreload\n",
    "%autoreload 2\n",
    "# Importing our custom module(s)\n",
    "import layers\n",
    "import losses\n",
    "import utils"
   ]
  },
  {
   "cell_type": "code",
   "execution_count": 3,
   "metadata": {},
   "outputs": [
    {
     "data": {
      "image/png": "[encoded data removed]",
      "text/plain": [
       "<Figure size 400x300 with 1 Axes>"
      ]
     },
     "metadata": {},
     "output_type": "display_data"
    }
   ],
   "source": [
    "X_numpy, y_numpy = make_moons(n_samples=20, noise=0.1, random_state=42)\n",
    "\n",
    "X = torch.tensor(X_numpy, dtype=torch.float32)\n",
    "y = torch.tensor(y_numpy.reshape(-1, 1), dtype=torch.float32)\n",
    "\n",
    "ncols, nrows = 1, 1\n",
    "fig, ax = plt.subplots(figsize=(4*ncols, 3*nrows), ncols=ncols, nrows=nrows, sharex=True, sharey='row')\n",
    "ax.scatter(X_numpy[:,0][y_numpy==0], X_numpy[:,1][y_numpy==0], color='#1F77B4')\n",
    "ax.scatter(X_numpy[:,0][y_numpy==1], X_numpy[:,1][y_numpy==1], color='#D62728')\n",
    "ax.set_xlim([-1.4, 2.4])\n",
    "ax.set_ylim([-0.9, 1.4])\n",
    "plt.xlabel(r'$x$')\n",
    "plt.ylabel(r'$y$')\n",
    "fig.tight_layout()\n",
    "plt.show()"
   ]
  },
  {
   "cell_type": "code",
   "execution_count": 4,
   "metadata": {},
   "outputs": [
    {
     "name": "stderr",
     "output_type": "stream",
     "text": [
      "100%|██████████| 10000/10000 [00:22<00:00, 448.47it/s]\n",
      "100%|██████████| 10000/10000 [00:23<00:00, 433.10it/s]\n",
      "100%|██████████| 10000/10000 [00:23<00:00, 432.07it/s]\n",
      "100%|██████████| 10000/10000 [00:20<00:00, 476.63it/s]\n",
      "100%|██████████| 10000/10000 [00:20<00:00, 479.35it/s]\n",
      "100%|██████████| 10000/10000 [00:21<00:00, 472.82it/s]\n",
      "100%|██████████| 10000/10000 [00:20<00:00, 486.58it/s]\n",
      "100%|██████████| 10000/10000 [00:20<00:00, 488.86it/s]\n",
      "100%|██████████| 10000/10000 [00:20<00:00, 485.73it/s]\n",
      "100%|██████████| 10000/10000 [00:21<00:00, 467.49it/s]\n",
      "100%|██████████| 10000/10000 [00:21<00:00, 460.89it/s]\n",
      "100%|██████████| 10000/10000 [00:21<00:00, 467.39it/s]\n",
      "100%|██████████| 10000/10000 [00:22<00:00, 438.38it/s]\n",
      "100%|██████████| 10000/10000 [00:22<00:00, 434.93it/s]\n",
      "100%|██████████| 10000/10000 [00:21<00:00, 466.80it/s]\n",
      "100%|██████████| 10000/10000 [00:23<00:00, 433.05it/s]\n",
      "100%|██████████| 10000/10000 [00:22<00:00, 450.71it/s]\n",
      "100%|██████████| 10000/10000 [00:20<00:00, 484.55it/s]\n",
      "100%|██████████| 10000/10000 [00:21<00:00, 455.64it/s]\n",
      "100%|██████████| 10000/10000 [00:21<00:00, 458.37it/s]\n",
      "100%|██████████| 10000/10000 [00:21<00:00, 458.36it/s]\n",
      "100%|██████████| 10000/10000 [00:21<00:00, 454.58it/s]\n",
      "100%|██████████| 10000/10000 [00:22<00:00, 447.23it/s]\n",
      "100%|██████████| 10000/10000 [00:21<00:00, 461.81it/s]\n"
     ]
    }
   ],
   "source": [
    "model = layers.RandomFeatureGaussianProcess(in_features=2, out_features=1, lengthscale=1.0)\n",
    "criterion = losses.ERMLoss(criterion=torch.nn.BCEWithLogitsLoss())\n",
    "\n",
    "init_state_dict = model.state_dict()\n",
    "best_state_dict = None\n",
    "best_metric = np.inf\n",
    "\n",
    "for lr, weight_decay in itertools.product([0.1, 0.01, 0.001, 0.0001], [0.01, 0.001, 0.0001, 1e-5, 1e-6, 0.0]):\n",
    "#for lr, weight_decay in itertools.product([0.1], [0.0]):\n",
    "   \n",
    "    model.load_state_dict(init_state_dict)\n",
    "    optimizer = torch.optim.Adam(model.parameters(), lr=lr, weight_decay=weight_decay)\n",
    "    \n",
    "    for epoch in tqdm.tqdm(range(10_000)):\n",
    "        optimizer.zero_grad()\n",
    "        logits = model(X)\n",
    "        params = utils.flatten_params(model)\n",
    "        metrics = criterion(y, logits, params)\n",
    "        metrics['loss'].backward()\n",
    "        optimizer.step()\n",
    "            \n",
    "        if metrics['nll'] < best_metric:\n",
    "            best_state_dict = model.state_dict()\n",
    "            best_metric = metrics['nll']\n",
    "        \n",
    "model.load_state_dict(best_state_dict)\n",
    "model.eval()\n",
    "\n",
    "with torch.no_grad():\n",
    "    xx, yy = np.meshgrid(np.arange(-1.4, 2.5, 0.05), np.arange(-0.9, 1.5, 0.05))\n",
    "    lengthscale1_preds = torch.nn.functional.sigmoid(model(torch.tensor(np.c_[xx.ravel(), yy.ravel()], dtype=torch.float32))).reshape(xx.shape)\n",
    "    torch.save(lengthscale1_preds, 'classification_lengthscale1_preds.pt')"
   ]
  },
  {
   "cell_type": "code",
   "execution_count": 5,
   "metadata": {},
   "outputs": [
    {
     "name": "stderr",
     "output_type": "stream",
     "text": [
      "100%|██████████| 10000/10000 [00:21<00:00, 456.22it/s]\n",
      "100%|██████████| 10000/10000 [00:21<00:00, 455.01it/s]\n",
      "100%|██████████| 10000/10000 [00:22<00:00, 449.52it/s]\n",
      "100%|██████████| 10000/10000 [00:22<00:00, 442.89it/s]\n",
      "100%|██████████| 10000/10000 [00:21<00:00, 473.49it/s]\n",
      "100%|██████████| 10000/10000 [00:11<00:00, 891.83it/s]\n",
      "100%|██████████| 10000/10000 [00:09<00:00, 1035.25it/s]\n",
      "100%|██████████| 10000/10000 [00:09<00:00, 1041.71it/s]\n",
      "100%|██████████| 10000/10000 [00:09<00:00, 1047.11it/s]\n",
      "100%|██████████| 10000/10000 [00:09<00:00, 1045.30it/s]\n",
      "100%|██████████| 10000/10000 [00:09<00:00, 1038.97it/s]\n",
      "100%|██████████| 10000/10000 [00:09<00:00, 1052.19it/s]\n",
      "100%|██████████| 10000/10000 [00:09<00:00, 1040.38it/s]\n",
      "100%|██████████| 10000/10000 [00:09<00:00, 1032.54it/s]\n",
      "100%|██████████| 10000/10000 [00:09<00:00, 1044.31it/s]\n",
      "100%|██████████| 10000/10000 [00:09<00:00, 1045.02it/s]\n",
      "100%|██████████| 10000/10000 [00:09<00:00, 1041.05it/s]\n",
      "100%|██████████| 10000/10000 [00:09<00:00, 1050.59it/s]\n",
      "100%|██████████| 10000/10000 [00:09<00:00, 1036.52it/s]\n",
      "100%|██████████| 10000/10000 [00:09<00:00, 1039.80it/s]\n",
      "100%|██████████| 10000/10000 [00:09<00:00, 1042.54it/s]\n",
      "100%|██████████| 10000/10000 [00:09<00:00, 1043.49it/s]\n",
      "100%|██████████| 10000/10000 [00:09<00:00, 1041.82it/s]\n",
      "100%|██████████| 10000/10000 [00:09<00:00, 1052.72it/s]\n"
     ]
    }
   ],
   "source": [
    "model = layers.RandomFeatureGaussianProcess(in_features=2, out_features=1, lengthscale=math.sqrt(20))\n",
    "criterion = losses.ERMLoss(criterion=torch.nn.BCEWithLogitsLoss())\n",
    "\n",
    "init_state_dict = model.state_dict()\n",
    "best_state_dict = None\n",
    "best_metric = np.inf\n",
    "\n",
    "for lr, weight_decay in itertools.product([0.1, 0.01, 0.001, 0.0001], [0.01, 0.001, 0.0001, 1e-5, 1e-6, 0.0]):\n",
    "#for lr, weight_decay in itertools.product([0.1], [0.0]):\n",
    "   \n",
    "    model.load_state_dict(init_state_dict)\n",
    "    optimizer = torch.optim.Adam(model.parameters(), lr=lr, weight_decay=weight_decay)\n",
    "    \n",
    "    for epoch in tqdm.tqdm(range(10_000)):\n",
    "        optimizer.zero_grad()\n",
    "        logits = model(X)\n",
    "        params = utils.flatten_params(model)\n",
    "        metrics = criterion(y, logits, params)\n",
    "        metrics['loss'].backward()\n",
    "        optimizer.step()\n",
    "            \n",
    "        if metrics['nll'] < best_metric:\n",
    "            best_state_dict = model.state_dict()\n",
    "            best_metric = metrics['nll']\n",
    "        \n",
    "model.load_state_dict(best_state_dict)\n",
    "model.eval()\n",
    "\n",
    "with torch.no_grad():\n",
    "    xx, yy = np.meshgrid(np.arange(-1.4, 2.5, 0.05), np.arange(-0.9, 1.5, 0.05))\n",
    "    lengthscale2_preds = torch.nn.functional.sigmoid(model(torch.tensor(np.c_[xx.ravel(), yy.ravel()], dtype=torch.float32))).reshape(xx.shape)\n",
    "    torch.save(lengthscale2_preds, 'classification_lengthscale2_preds.pt')"
   ]
  },
  {
   "cell_type": "code",
   "execution_count": 6,
   "metadata": {},
   "outputs": [
    {
     "name": "stderr",
     "output_type": "stream",
     "text": [
      "100%|██████████| 10000/10000 [00:28<00:00, 355.43it/s]\n",
      "100%|██████████| 10000/10000 [00:28<00:00, 355.97it/s]\n",
      "100%|██████████| 10000/10000 [00:28<00:00, 355.56it/s]\n",
      "100%|██████████| 10000/10000 [00:28<00:00, 356.78it/s]\n"
     ]
    }
   ],
   "source": [
    "model = layers.RandomFeatureGaussianProcess(in_features=2, out_features=1)\n",
    "model.sigma_param = torch.nn.Parameter(torch.log(torch.expm1(torch.tensor(1e-4))))\n",
    "utils.add_variational_layers(model, model.sigma_param)\n",
    "model.use_posterior = types.MethodType(utils.use_posterior, model)\n",
    "model.lengthscale = torch.nn.Parameter(torch.log(torch.expm1(torch.tensor(math.sqrt(20)))))\n",
    "torch.nn.utils.parametrize.register_parametrization(model, 'lengthscale', torch.nn.Softplus())\n",
    "model.outputscale = torch.nn.Parameter(torch.log(torch.expm1(torch.tensor(1.0))))\n",
    "torch.nn.utils.parametrize.register_parametrization(model, 'outputscale', torch.nn.Softplus())\n",
    "criterion = losses.KappaELBoLoss(1.0, model.sigma_param, criterion=torch.nn.BCEWithLogitsLoss())\n",
    "\n",
    "init_state_dict = model.state_dict()\n",
    "best_state_dict = None\n",
    "best_metric = np.inf\n",
    "\n",
    "for lr, weight_decay in itertools.product([0.1, 0.01, 0.001, 0.0001], [0.0]):\n",
    "#for lr, weight_decay in itertools.product([0.1], [0.0]):\n",
    "    \n",
    "    model.load_state_dict(init_state_dict)\n",
    "    optimizer = torch.optim.Adam(model.parameters(), lr=lr, weight_decay=weight_decay)\n",
    "    \n",
    "    for epoch in tqdm.tqdm(range(10_000)):\n",
    "        optimizer.zero_grad()\n",
    "        logits = model(X)\n",
    "        params = utils.flatten_params(model)\n",
    "        metrics = criterion(y, logits, params)\n",
    "        metrics['loss'].backward()\n",
    "        optimizer.step()\n",
    "            \n",
    "        if metrics['loss'] < best_metric:\n",
    "            best_state_dict = model.state_dict()\n",
    "            best_metric = metrics['loss']\n",
    "        \n",
    "model.load_state_dict(best_state_dict)\n",
    "model.eval()\n",
    "\n",
    "with torch.no_grad():\n",
    "    xx, yy = np.meshgrid(np.arange(-1.4, 2.5, 0.05), np.arange(-0.9, 1.5, 0.05))\n",
    "    elbo_preds = torch.nn.functional.sigmoid(model(torch.tensor(np.c_[xx.ravel(), yy.ravel()], dtype=torch.float32))).reshape(xx.shape)\n",
    "    torch.save(elbo_preds, 'classification_elbo_preds.pt')"
   ]
  },
  {
   "cell_type": "code",
   "execution_count": 7,
   "metadata": {},
   "outputs": [
    {
     "name": "stderr",
     "output_type": "stream",
     "text": [
      "100%|██████████| 10000/10000 [00:28<00:00, 356.25it/s]\n",
      "100%|██████████| 10000/10000 [00:27<00:00, 357.17it/s]\n",
      "100%|██████████| 10000/10000 [00:28<00:00, 354.68it/s]\n",
      "100%|██████████| 10000/10000 [00:28<00:00, 357.14it/s]\n"
     ]
    }
   ],
   "source": [
    "model = layers.RandomFeatureGaussianProcess(in_features=2, out_features=1)\n",
    "model.sigma_param = torch.nn.Parameter(torch.log(torch.expm1(torch.tensor(1e-4))))\n",
    "utils.add_variational_layers(model, model.sigma_param)\n",
    "model.use_posterior = types.MethodType(utils.use_posterior, model)\n",
    "model.lengthscale = torch.nn.Parameter(torch.log(torch.expm1(torch.tensor(math.sqrt(20)))))\n",
    "torch.nn.utils.parametrize.register_parametrization(model, 'lengthscale', torch.nn.Softplus())\n",
    "model.outputscale = torch.nn.Parameter(torch.log(torch.expm1(torch.tensor(1.0))))\n",
    "torch.nn.utils.parametrize.register_parametrization(model, 'outputscale', torch.nn.Softplus())\n",
    "criterion = losses.KappaELBoLoss(len(utils.flatten_params(model))/len(X), model.sigma_param, criterion=torch.nn.BCEWithLogitsLoss())\n",
    "\n",
    "init_state_dict = model.state_dict()\n",
    "best_state_dict = None\n",
    "best_metric = np.inf\n",
    "\n",
    "for lr, weight_decay in itertools.product([0.1, 0.01, 0.001, 0.0001], [0.0]):\n",
    "#for lr, weight_decay in itertools.product([0.1], [0.0]):\n",
    "    \n",
    "    model.load_state_dict(init_state_dict)\n",
    "    optimizer = torch.optim.Adam(model.parameters(), lr=lr, weight_decay=weight_decay)\n",
    "    \n",
    "    for epoch in tqdm.tqdm(range(10_000)):\n",
    "        optimizer.zero_grad()\n",
    "        logits = model(X)\n",
    "        params = utils.flatten_params(model)\n",
    "        metrics = criterion(y, logits, params)\n",
    "        metrics['loss'].backward()\n",
    "        optimizer.step()\n",
    "            \n",
    "        if metrics['loss'] < best_metric:\n",
    "            best_state_dict = model.state_dict()\n",
    "            best_metric = metrics['loss']\n",
    "        \n",
    "model.load_state_dict(best_state_dict)\n",
    "model.eval()\n",
    "\n",
    "with torch.no_grad():\n",
    "    xx, yy = np.meshgrid(np.arange(-1.4, 2.5, 0.05), np.arange(-0.9, 1.5, 0.05))\n",
    "    de_elbo_preds = torch.nn.functional.sigmoid(model(torch.tensor(np.c_[xx.ravel(), yy.ravel()], dtype=torch.float32))).reshape(xx.shape)\n",
    "    torch.save(de_elbo_preds, 'classification_de_elbo_preds.pt')"
   ]
  },
  {
   "cell_type": "code",
   "execution_count": 8,
   "metadata": {},
   "outputs": [
    {
     "name": "stderr",
     "output_type": "stream",
     "text": [
      "100%|██████████| 10000/10000 [00:40<00:00, 247.26it/s]\n"
     ]
    }
   ],
   "source": [
    "class DirichletGPModel(gpytorch.models.ExactGP):\n",
    "    def __init__(self, train_x, train_y, likelihood, num_classes):\n",
    "        super().__init__(train_x, train_y, likelihood)\n",
    "        self.mean_module = gpytorch.means.ConstantMean(batch_shape=torch.Size((num_classes,)))\n",
    "        self.covar_module = gpytorch.kernels.ScaleKernel(\n",
    "            gpytorch.kernels.RBFKernel(batch_shape=torch.Size((num_classes,))),\n",
    "            batch_shape=torch.Size((num_classes,)),\n",
    "        )\n",
    "\n",
    "    def forward(self, x):\n",
    "        mean_x = self.mean_module(x)\n",
    "        covar_x = self.covar_module(x)\n",
    "        return gpytorch.distributions.MultivariateNormal(mean_x, covar_x)\n",
    "    \n",
    "likelihood = gpytorch.likelihoods.DirichletClassificationLikelihood(y.view(-1).int(), learn_additional_noise=True)\n",
    "model = DirichletGPModel(X, likelihood.transformed_targets, likelihood, num_classes=likelihood.num_classes)\n",
    "\n",
    "optimizer = torch.optim.Adam(model.parameters(), lr=0.1)\n",
    "mll = gpytorch.mlls.ExactMarginalLogLikelihood(likelihood, model)\n",
    "\n",
    "model.train()\n",
    "likelihood.train()\n",
    "\n",
    "for epoch in tqdm.tqdm(range(10_000)):\n",
    "    optimizer.zero_grad()\n",
    "    output = model(X)\n",
    "    loss = -mll(output, likelihood.transformed_targets).sum()\n",
    "    loss.backward()\n",
    "    optimizer.step()\n",
    "\n",
    "model.eval()\n",
    "likelihood.eval()\n",
    "\n",
    "with torch.no_grad():\n",
    "    xx, yy = np.meshgrid(np.arange(-1.4, 2.5, 0.05), np.arange(-0.9, 1.5, 0.05))\n",
    "    gp_preds = likelihood(model(torch.tensor(np.c_[xx.ravel(), yy.ravel()], dtype=torch.float32)))\n",
    "    gp_samples = gp_preds.sample(torch.Size((100,))).exp()\n",
    "    gp_mean = (gp_samples / gp_samples.sum(dim=-2, keepdim=True)).mean(dim=0)[1].reshape(xx.shape)\n",
    "    torch.save(gp_preds, 'classification_gp_preds.pt')\n",
    "    torch.save(gp_samples, 'classification_gp_samples.pt')\n",
    "    torch.save(gp_mean, 'classification_gp_mean.pt')"
   ]
  },
  {
   "cell_type": "code",
   "execution_count": 9,
   "metadata": {},
   "outputs": [],
   "source": [
    "lengthscale1_preds = torch.load('classification_lengthscale1_preds.pt', weights_only=False)\n",
    "lengthscale2_preds = torch.load('classification_lengthscale2_preds.pt', weights_only=False)\n",
    "elbo_preds = torch.load('classification_elbo_preds.pt', weights_only=False)\n",
    "de_elbo_preds = torch.load('classification_de_elbo_preds.pt', weights_only=False)\n",
    "gp_preds = torch.load('classification_gp_preds.pt', weights_only=False)\n",
    "gp_samples = torch.load('classification_gp_samples.pt', weights_only=False)\n",
    "gp_mean = torch.load('classification_gp_mean.pt', weights_only=False)"
   ]
  },
  {
   "cell_type": "code",
   "execution_count": 10,
   "metadata": {},
   "outputs": [
    {
     "data": {
      "image/png": "[encoded data removed]",
      "text/plain": [
       "<Figure size 2000x300 with 5 Axes>"
      ]
     },
     "metadata": {},
     "output_type": "display_data"
    }
   ],
   "source": [
    "colors = ['#1F77B4', '#5799C7', '#8FBBDA', '#C7DDED', '#FFFFFF', '#F5C9CA', '#EB9394', '#E15D5E', '#D62728']\n",
    "cmap = LinearSegmentedColormap.from_list('bwr', colors)\n",
    "\n",
    "xx, yy = np.meshgrid(np.arange(-1.4, 2.5, 0.05), np.arange(-0.9, 1.5, 0.05))\n",
    "\n",
    "ncols, nrows = 5, 1\n",
    "fig, axs = plt.subplots(figsize=(4*ncols, 3*nrows), ncols=ncols, nrows=nrows, sharex=True, sharey='row')\n",
    "\n",
    "axs[0].scatter(X_numpy[:,0][y_numpy==0], X_numpy[:,1][y_numpy==0], color='#1F77B4')\n",
    "axs[0].scatter(X_numpy[:,0][y_numpy==1], X_numpy[:,1][y_numpy==1], color='#D62728')\n",
    "axs[0].contourf(xx, yy, lengthscale1_preds, alpha=0.3, cmap=cmap)\n",
    "axs[0].set_xlim([-1.4, 2.4])\n",
    "axs[0].set_ylim([-0.9, 1.4])\n",
    "axs[0].set_xlabel(r'$x_1$')\n",
    "axs[0].set_ylabel(r'$x_2$')\n",
    "\n",
    "axs[1].scatter(X_numpy[:,0][y_numpy==0], X_numpy[:,1][y_numpy==0], color='#1F77B4')\n",
    "axs[1].scatter(X_numpy[:,0][y_numpy==1], X_numpy[:,1][y_numpy==1], color='#D62728')\n",
    "axs[1].contourf(xx, yy, lengthscale2_preds, alpha=0.3, cmap=cmap)\n",
    "axs[1].set_xlim([-1.4, 2.4])\n",
    "axs[1].set_ylim([-0.9, 1.4])\n",
    "axs[1].set_xlabel(r'$x_1$')\n",
    "\n",
    "axs[2].scatter(X_numpy[:,0][y_numpy==0], X_numpy[:,1][y_numpy==0], color='#1F77B4')\n",
    "axs[2].scatter(X_numpy[:,0][y_numpy==1], X_numpy[:,1][y_numpy==1], color='#D62728')\n",
    "axs[2].contourf(xx, yy, elbo_preds, alpha=0.3, cmap=cmap)\n",
    "axs[2].set_xlim([-1.4, 2.4])\n",
    "axs[2].set_ylim([-0.9, 1.4])\n",
    "axs[2].set_xlabel(r'$x_1$')\n",
    "\n",
    "axs[3].scatter(X_numpy[:,0][y_numpy==0], X_numpy[:,1][y_numpy==0], color='#1F77B4')\n",
    "axs[3].scatter(X_numpy[:,0][y_numpy==1], X_numpy[:,1][y_numpy==1], color='#D62728')\n",
    "axs[3].contourf(xx, yy, de_elbo_preds, alpha=0.3, cmap=cmap)\n",
    "axs[3].set_xlim([-1.4, 2.4])\n",
    "axs[3].set_ylim([-0.9, 1.4])\n",
    "axs[3].set_xlabel(r'$x_1$')\n",
    "\n",
    "axs[4].scatter(X_numpy[:,0][y_numpy==0], X_numpy[:,1][y_numpy==0], color='#1F77B4')\n",
    "axs[4].scatter(X_numpy[:,0][y_numpy==1], X_numpy[:,1][y_numpy==1], color='#D62728')\n",
    "axs[4].contourf(xx, yy, gp_mean, alpha=0.3, cmap=cmap)\n",
    "axs[4].set_xlim([-1.4, 2.4])\n",
    "axs[4].set_ylim([-0.9, 1.4])\n",
    "axs[4].set_xlabel(r'$x_1$')\n",
    "\n",
    "fig.tight_layout()\n",
    "fig.savefig('classification_demo.pdf', bbox_inches='tight')\n",
    "plt.show()"
   ]
  },
  {
   "cell_type": "code",
   "execution_count": null,
   "metadata": {},
   "outputs": [],
   "source": []
  }
 ],
 "metadata": {
  "kernelspec": {
   "display_name": "l3d_2024f_cuda12_1",
   "language": "python",
   "name": "l3d_2024f_cuda12_1"
  },
  "language_info": {
   "codemirror_mode": {
    "name": "ipython",
    "version": 3
   },
   "file_extension": ".py",
   "mimetype": "text/x-python",
   "name": "python",
   "nbconvert_exporter": "python",
   "pygments_lexer": "ipython3",
   "version": "3.12.5"
  }
 },
 "nbformat": 4,
 "nbformat_minor": 2
}

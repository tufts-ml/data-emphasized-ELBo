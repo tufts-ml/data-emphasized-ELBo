{
 "cells": [
  {
   "cell_type": "code",
   "execution_count": 1,
   "metadata": {},
   "outputs": [],
   "source": [
    "import os\n",
    "import math\n",
    "import itertools\n",
    "import numpy as np\n",
    "import pandas as pd"
   ]
  },
  {
   "cell_type": "code",
   "execution_count": 2,
   "metadata": {},
   "outputs": [],
   "source": [
    "def check_epochs(df, n, batch_size=128, steps=6000):\n",
    "    num_batches = math.floor(n/batch_size)\n",
    "    epochs = int(steps/num_batches)\n",
    "    if df.shape[0] == epochs:\n",
    "        return True\n",
    "    else:\n",
    "        return False"
   ]
  },
  {
   "cell_type": "code",
   "execution_count": 3,
   "metadata": {},
   "outputs": [
    {
     "name": "stdout",
     "output_type": "stream",
     "text": [
      "    \"python ../src/main_Oxford-IIIT_Pet.py --batch_size=128 --criterion='l2-zero' --dataset_directory='/cluster/tufts/hugheslab/eharve06/Oxford-IIIT_Pet' --ELBo --experiments_directory='/cluster/tufts/hugheslab/eharve06/data-emphasized-ELBo/experiments/retrained_Oxford-IIIT_Pet_VI' --kappa=63740.12162162162 --lr_0=0.1 --model_name='l2-zero_kappa=63740.12162162162_lr_0=0.1_n=370_random_state=1001' --n=370 --num_workers=0 --random_state=1001 --save\"\n",
      "    \"python ../src/main_Oxford-IIIT_Pet.py --batch_size=128 --criterion='l2-zero' --dataset_directory='/cluster/tufts/hugheslab/eharve06/Oxford-IIIT_Pet' --ELBo --experiments_directory='/cluster/tufts/hugheslab/eharve06/data-emphasized-ELBo/experiments/retrained_Oxford-IIIT_Pet_VI' --kappa=63740.12162162162 --lr_0=0.1 --model_name='l2-zero_kappa=63740.12162162162_lr_0=0.1_n=370_random_state=2001' --n=370 --num_workers=0 --random_state=2001 --save\"\n",
      "    \"python ../src/main_Oxford-IIIT_Pet.py --batch_size=128 --criterion='l2-zero' --dataset_directory='/cluster/tufts/hugheslab/eharve06/Oxford-IIIT_Pet' --ELBo --experiments_directory='/cluster/tufts/hugheslab/eharve06/data-emphasized-ELBo/experiments/retrained_Oxford-IIIT_Pet_VI' --kappa=63740.12162162162 --lr_0=0.1 --model_name='l2-zero_kappa=63740.12162162162_lr_0=0.1_n=370_random_state=3001' --n=370 --num_workers=0 --random_state=3001 --save\"\n",
      "    \"python ../src/main_Oxford-IIIT_Pet.py --batch_size=128 --criterion='l2-zero' --dataset_directory='/cluster/tufts/hugheslab/eharve06/Oxford-IIIT_Pet' --ELBo --experiments_directory='/cluster/tufts/hugheslab/eharve06/data-emphasized-ELBo/experiments/retrained_Oxford-IIIT_Pet_VI' --kappa=6853.776518453938 --lr_0=0.1 --model_name='l2-zero_kappa=6853.776518453938_lr_0=0.1_n=3441_random_state=1001' --n=3441 --num_workers=0 --random_state=1001 --save\"\n",
      "    \"python ../src/main_Oxford-IIIT_Pet.py --batch_size=128 --criterion='l2-zero' --dataset_directory='/cluster/tufts/hugheslab/eharve06/Oxford-IIIT_Pet' --ELBo --experiments_directory='/cluster/tufts/hugheslab/eharve06/data-emphasized-ELBo/experiments/retrained_Oxford-IIIT_Pet_VI' --kappa=6853.776518453938 --lr_0=0.1 --model_name='l2-zero_kappa=6853.776518453938_lr_0=0.1_n=3441_random_state=2001' --n=3441 --num_workers=0 --random_state=2001 --save\"\n",
      "    \"python ../src/main_Oxford-IIIT_Pet.py --batch_size=128 --criterion='l2-zero' --dataset_directory='/cluster/tufts/hugheslab/eharve06/Oxford-IIIT_Pet' --ELBo --experiments_directory='/cluster/tufts/hugheslab/eharve06/data-emphasized-ELBo/experiments/retrained_Oxford-IIIT_Pet_VI' --kappa=6853.776518453938 --lr_0=0.1 --model_name='l2-zero_kappa=6853.776518453938_lr_0=0.1_n=3441_random_state=3001' --n=3441 --num_workers=0 --random_state=3001 --save\"\n",
      "    \"python ../src/main_Oxford-IIIT_Pet.py --batch_size=128 --criterion='l2-zero' --dataset_directory='/cluster/tufts/hugheslab/eharve06/Oxford-IIIT_Pet' --ELBo --experiments_directory='/cluster/tufts/hugheslab/eharve06/data-emphasized-ELBo/experiments/retrained_Oxford-IIIT_Pet_VI' --kappa=63740.12162162162 --lr_0=0.01 --model_name='l2-zero_kappa=63740.12162162162_lr_0=0.01_n=370_random_state=1001' --n=370 --num_workers=0 --random_state=1001 --save\"\n",
      "    \"python ../src/main_Oxford-IIIT_Pet.py --batch_size=128 --criterion='l2-zero' --dataset_directory='/cluster/tufts/hugheslab/eharve06/Oxford-IIIT_Pet' --ELBo --experiments_directory='/cluster/tufts/hugheslab/eharve06/data-emphasized-ELBo/experiments/retrained_Oxford-IIIT_Pet_VI' --kappa=63740.12162162162 --lr_0=0.01 --model_name='l2-zero_kappa=63740.12162162162_lr_0=0.01_n=370_random_state=2001' --n=370 --num_workers=0 --random_state=2001 --save\"\n",
      "    \"python ../src/main_Oxford-IIIT_Pet.py --batch_size=128 --criterion='l2-zero' --dataset_directory='/cluster/tufts/hugheslab/eharve06/Oxford-IIIT_Pet' --ELBo --experiments_directory='/cluster/tufts/hugheslab/eharve06/data-emphasized-ELBo/experiments/retrained_Oxford-IIIT_Pet_VI' --kappa=63740.12162162162 --lr_0=0.01 --model_name='l2-zero_kappa=63740.12162162162_lr_0=0.01_n=370_random_state=3001' --n=370 --num_workers=0 --random_state=3001 --save\"\n",
      "    \"python ../src/main_Oxford-IIIT_Pet.py --batch_size=128 --criterion='l2-zero' --dataset_directory='/cluster/tufts/hugheslab/eharve06/Oxford-IIIT_Pet' --ELBo --experiments_directory='/cluster/tufts/hugheslab/eharve06/data-emphasized-ELBo/experiments/retrained_Oxford-IIIT_Pet_VI' --kappa=6853.776518453938 --lr_0=0.01 --model_name='l2-zero_kappa=6853.776518453938_lr_0=0.01_n=3441_random_state=1001' --n=3441 --num_workers=0 --random_state=1001 --save\"\n",
      "    \"python ../src/main_Oxford-IIIT_Pet.py --batch_size=128 --criterion='l2-zero' --dataset_directory='/cluster/tufts/hugheslab/eharve06/Oxford-IIIT_Pet' --ELBo --experiments_directory='/cluster/tufts/hugheslab/eharve06/data-emphasized-ELBo/experiments/retrained_Oxford-IIIT_Pet_VI' --kappa=6853.776518453938 --lr_0=0.01 --model_name='l2-zero_kappa=6853.776518453938_lr_0=0.01_n=3441_random_state=2001' --n=3441 --num_workers=0 --random_state=2001 --save\"\n",
      "    \"python ../src/main_Oxford-IIIT_Pet.py --batch_size=128 --criterion='l2-zero' --dataset_directory='/cluster/tufts/hugheslab/eharve06/Oxford-IIIT_Pet' --ELBo --experiments_directory='/cluster/tufts/hugheslab/eharve06/data-emphasized-ELBo/experiments/retrained_Oxford-IIIT_Pet_VI' --kappa=6853.776518453938 --lr_0=0.01 --model_name='l2-zero_kappa=6853.776518453938_lr_0=0.01_n=3441_random_state=3001' --n=3441 --num_workers=0 --random_state=3001 --save\"\n",
      "    \"python ../src/main_Oxford-IIIT_Pet.py --batch_size=128 --criterion='l2-zero' --dataset_directory='/cluster/tufts/hugheslab/eharve06/Oxford-IIIT_Pet' --ELBo --experiments_directory='/cluster/tufts/hugheslab/eharve06/data-emphasized-ELBo/experiments/retrained_Oxford-IIIT_Pet_VI' --kappa=63740.12162162162 --lr_0=0.001 --model_name='l2-zero_kappa=63740.12162162162_lr_0=0.001_n=370_random_state=1001' --n=370 --num_workers=0 --random_state=1001 --save\"\n",
      "    \"python ../src/main_Oxford-IIIT_Pet.py --batch_size=128 --criterion='l2-zero' --dataset_directory='/cluster/tufts/hugheslab/eharve06/Oxford-IIIT_Pet' --ELBo --experiments_directory='/cluster/tufts/hugheslab/eharve06/data-emphasized-ELBo/experiments/retrained_Oxford-IIIT_Pet_VI' --kappa=63740.12162162162 --lr_0=0.001 --model_name='l2-zero_kappa=63740.12162162162_lr_0=0.001_n=370_random_state=2001' --n=370 --num_workers=0 --random_state=2001 --save\"\n",
      "    \"python ../src/main_Oxford-IIIT_Pet.py --batch_size=128 --criterion='l2-zero' --dataset_directory='/cluster/tufts/hugheslab/eharve06/Oxford-IIIT_Pet' --ELBo --experiments_directory='/cluster/tufts/hugheslab/eharve06/data-emphasized-ELBo/experiments/retrained_Oxford-IIIT_Pet_VI' --kappa=63740.12162162162 --lr_0=0.001 --model_name='l2-zero_kappa=63740.12162162162_lr_0=0.001_n=370_random_state=3001' --n=370 --num_workers=0 --random_state=3001 --save\"\n",
      "    \"python ../src/main_Oxford-IIIT_Pet.py --batch_size=128 --criterion='l2-zero' --dataset_directory='/cluster/tufts/hugheslab/eharve06/Oxford-IIIT_Pet' --ELBo --experiments_directory='/cluster/tufts/hugheslab/eharve06/data-emphasized-ELBo/experiments/retrained_Oxford-IIIT_Pet_VI' --kappa=6853.776518453938 --lr_0=0.001 --model_name='l2-zero_kappa=6853.776518453938_lr_0=0.001_n=3441_random_state=1001' --n=3441 --num_workers=0 --random_state=1001 --save\"\n",
      "    \"python ../src/main_Oxford-IIIT_Pet.py --batch_size=128 --criterion='l2-zero' --dataset_directory='/cluster/tufts/hugheslab/eharve06/Oxford-IIIT_Pet' --ELBo --experiments_directory='/cluster/tufts/hugheslab/eharve06/data-emphasized-ELBo/experiments/retrained_Oxford-IIIT_Pet_VI' --kappa=6853.776518453938 --lr_0=0.001 --model_name='l2-zero_kappa=6853.776518453938_lr_0=0.001_n=3441_random_state=2001' --n=3441 --num_workers=0 --random_state=2001 --save\"\n",
      "    \"python ../src/main_Oxford-IIIT_Pet.py --batch_size=128 --criterion='l2-zero' --dataset_directory='/cluster/tufts/hugheslab/eharve06/Oxford-IIIT_Pet' --ELBo --experiments_directory='/cluster/tufts/hugheslab/eharve06/data-emphasized-ELBo/experiments/retrained_Oxford-IIIT_Pet_VI' --kappa=6853.776518453938 --lr_0=0.001 --model_name='l2-zero_kappa=6853.776518453938_lr_0=0.001_n=3441_random_state=3001' --n=3441 --num_workers=0 --random_state=3001 --save\"\n",
      "    \"python ../src/main_Oxford-IIIT_Pet.py --batch_size=128 --criterion='l2-zero' --dataset_directory='/cluster/tufts/hugheslab/eharve06/Oxford-IIIT_Pet' --ELBo --experiments_directory='/cluster/tufts/hugheslab/eharve06/data-emphasized-ELBo/experiments/retrained_Oxford-IIIT_Pet_VI' --kappa=63740.12162162162 --lr_0=0.0001 --model_name='l2-zero_kappa=63740.12162162162_lr_0=0.0001_n=370_random_state=1001' --n=370 --num_workers=0 --random_state=1001 --save\"\n",
      "    \"python ../src/main_Oxford-IIIT_Pet.py --batch_size=128 --criterion='l2-zero' --dataset_directory='/cluster/tufts/hugheslab/eharve06/Oxford-IIIT_Pet' --ELBo --experiments_directory='/cluster/tufts/hugheslab/eharve06/data-emphasized-ELBo/experiments/retrained_Oxford-IIIT_Pet_VI' --kappa=63740.12162162162 --lr_0=0.0001 --model_name='l2-zero_kappa=63740.12162162162_lr_0=0.0001_n=370_random_state=2001' --n=370 --num_workers=0 --random_state=2001 --save\"\n",
      "    \"python ../src/main_Oxford-IIIT_Pet.py --batch_size=128 --criterion='l2-zero' --dataset_directory='/cluster/tufts/hugheslab/eharve06/Oxford-IIIT_Pet' --ELBo --experiments_directory='/cluster/tufts/hugheslab/eharve06/data-emphasized-ELBo/experiments/retrained_Oxford-IIIT_Pet_VI' --kappa=63740.12162162162 --lr_0=0.0001 --model_name='l2-zero_kappa=63740.12162162162_lr_0=0.0001_n=370_random_state=3001' --n=370 --num_workers=0 --random_state=3001 --save\"\n",
      "    \"python ../src/main_Oxford-IIIT_Pet.py --batch_size=128 --criterion='l2-zero' --dataset_directory='/cluster/tufts/hugheslab/eharve06/Oxford-IIIT_Pet' --ELBo --experiments_directory='/cluster/tufts/hugheslab/eharve06/data-emphasized-ELBo/experiments/retrained_Oxford-IIIT_Pet_VI' --kappa=6853.776518453938 --lr_0=0.0001 --model_name='l2-zero_kappa=6853.776518453938_lr_0=0.0001_n=3441_random_state=1001' --n=3441 --num_workers=0 --random_state=1001 --save\"\n",
      "    \"python ../src/main_Oxford-IIIT_Pet.py --batch_size=128 --criterion='l2-zero' --dataset_directory='/cluster/tufts/hugheslab/eharve06/Oxford-IIIT_Pet' --ELBo --experiments_directory='/cluster/tufts/hugheslab/eharve06/data-emphasized-ELBo/experiments/retrained_Oxford-IIIT_Pet_VI' --kappa=6853.776518453938 --lr_0=0.0001 --model_name='l2-zero_kappa=6853.776518453938_lr_0=0.0001_n=3441_random_state=2001' --n=3441 --num_workers=0 --random_state=2001 --save\"\n",
      "    \"python ../src/main_Oxford-IIIT_Pet.py --batch_size=128 --criterion='l2-zero' --dataset_directory='/cluster/tufts/hugheslab/eharve06/Oxford-IIIT_Pet' --ELBo --experiments_directory='/cluster/tufts/hugheslab/eharve06/data-emphasized-ELBo/experiments/retrained_Oxford-IIIT_Pet_VI' --kappa=6853.776518453938 --lr_0=0.0001 --model_name='l2-zero_kappa=6853.776518453938_lr_0=0.0001_n=3441_random_state=3001' --n=3441 --num_workers=0 --random_state=3001 --save\"\n",
      "23\n"
     ]
    }
   ],
   "source": [
    "criterion = 'l2-zero'\n",
    "d = 23583845\n",
    "dataset_directory = '/cluster/tufts/hugheslab/eharve06/Oxford-IIIT_Pet'\n",
    "experiments_directory = '/cluster/tufts/hugheslab/eharve06/data-emphasized-ELBo/experiments/retrained_Oxford-IIIT_Pet_VI'\n",
    "lr_0s = [0.1, 0.01, 0.001, 0.0001]\n",
    "ns = [370, 3441]\n",
    "random_states = [1001, 2001, 3001]\n",
    "\n",
    "count = -1\n",
    "for lr_0, n, random_state in itertools.product(lr_0s, ns, random_states):\n",
    "    model_name = f'{criterion}_kappa={d/n}_lr_0={lr_0}_n={n}_random_state={random_state}'\n",
    "    if os.path.exists(f'{experiments_directory}/{model_name}.csv'):\n",
    "        temp_df = pd.read_csv(f'{experiments_directory}/{model_name}.csv')\n",
    "        if not check_epochs(temp_df, n, batch_size=min(128, n), steps=6000):\n",
    "            count += 1\n",
    "            print(f'    \"python ../src/main_Oxford-IIIT_Pet.py --batch_size=128 --criterion=\\'{criterion}\\' --dataset_directory=\\'{dataset_directory}\\' --ELBo --experiments_directory=\\'{experiments_directory}\\' --kappa={d/n} --lr_0={lr_0} --model_name=\\'{model_name}\\' --n={n} --num_workers=0 --random_state={random_state} --save\"')\n",
    "    else:\n",
    "        count += 1\n",
    "        print(f'    \"python ../src/main_Oxford-IIIT_Pet.py --batch_size=128 --criterion=\\'{criterion}\\' --dataset_directory=\\'{dataset_directory}\\' --ELBo --experiments_directory=\\'{experiments_directory}\\' --kappa={d/n} --lr_0={lr_0} --model_name=\\'{model_name}\\' --n={n} --num_workers=0 --random_state={random_state} --save\"')\n",
    "print(count)"
   ]
  },
  {
   "cell_type": "code",
   "execution_count": 4,
   "metadata": {},
   "outputs": [
    {
     "name": "stdout",
     "output_type": "stream",
     "text": [
      "    \"python ../src/main_Oxford-IIIT_Pet.py --batch_size=128 --criterion='l2-sp' --dataset_directory='/cluster/tufts/hugheslab/eharve06/Oxford-IIIT_Pet' --ELBo --experiments_directory='/cluster/tufts/hugheslab/eharve06/data-emphasized-ELBo/experiments/retrained_Oxford-IIIT_Pet_VI' --kappa=63740.12162162162 --lr_0=0.1 --model_name='l2-sp_kappa=63740.12162162162_lr_0=0.1_n=370_random_state=1001' --n=370 --num_workers=0 --random_state=1001 --save\"\n",
      "    \"python ../src/main_Oxford-IIIT_Pet.py --batch_size=128 --criterion='l2-sp' --dataset_directory='/cluster/tufts/hugheslab/eharve06/Oxford-IIIT_Pet' --ELBo --experiments_directory='/cluster/tufts/hugheslab/eharve06/data-emphasized-ELBo/experiments/retrained_Oxford-IIIT_Pet_VI' --kappa=63740.12162162162 --lr_0=0.1 --model_name='l2-sp_kappa=63740.12162162162_lr_0=0.1_n=370_random_state=2001' --n=370 --num_workers=0 --random_state=2001 --save\"\n",
      "    \"python ../src/main_Oxford-IIIT_Pet.py --batch_size=128 --criterion='l2-sp' --dataset_directory='/cluster/tufts/hugheslab/eharve06/Oxford-IIIT_Pet' --ELBo --experiments_directory='/cluster/tufts/hugheslab/eharve06/data-emphasized-ELBo/experiments/retrained_Oxford-IIIT_Pet_VI' --kappa=63740.12162162162 --lr_0=0.1 --model_name='l2-sp_kappa=63740.12162162162_lr_0=0.1_n=370_random_state=3001' --n=370 --num_workers=0 --random_state=3001 --save\"\n",
      "    \"python ../src/main_Oxford-IIIT_Pet.py --batch_size=128 --criterion='l2-sp' --dataset_directory='/cluster/tufts/hugheslab/eharve06/Oxford-IIIT_Pet' --ELBo --experiments_directory='/cluster/tufts/hugheslab/eharve06/data-emphasized-ELBo/experiments/retrained_Oxford-IIIT_Pet_VI' --kappa=6853.776518453938 --lr_0=0.1 --model_name='l2-sp_kappa=6853.776518453938_lr_0=0.1_n=3441_random_state=1001' --n=3441 --num_workers=0 --random_state=1001 --save\"\n",
      "    \"python ../src/main_Oxford-IIIT_Pet.py --batch_size=128 --criterion='l2-sp' --dataset_directory='/cluster/tufts/hugheslab/eharve06/Oxford-IIIT_Pet' --ELBo --experiments_directory='/cluster/tufts/hugheslab/eharve06/data-emphasized-ELBo/experiments/retrained_Oxford-IIIT_Pet_VI' --kappa=6853.776518453938 --lr_0=0.1 --model_name='l2-sp_kappa=6853.776518453938_lr_0=0.1_n=3441_random_state=2001' --n=3441 --num_workers=0 --random_state=2001 --save\"\n",
      "    \"python ../src/main_Oxford-IIIT_Pet.py --batch_size=128 --criterion='l2-sp' --dataset_directory='/cluster/tufts/hugheslab/eharve06/Oxford-IIIT_Pet' --ELBo --experiments_directory='/cluster/tufts/hugheslab/eharve06/data-emphasized-ELBo/experiments/retrained_Oxford-IIIT_Pet_VI' --kappa=6853.776518453938 --lr_0=0.1 --model_name='l2-sp_kappa=6853.776518453938_lr_0=0.1_n=3441_random_state=3001' --n=3441 --num_workers=0 --random_state=3001 --save\"\n",
      "    \"python ../src/main_Oxford-IIIT_Pet.py --batch_size=128 --criterion='l2-sp' --dataset_directory='/cluster/tufts/hugheslab/eharve06/Oxford-IIIT_Pet' --ELBo --experiments_directory='/cluster/tufts/hugheslab/eharve06/data-emphasized-ELBo/experiments/retrained_Oxford-IIIT_Pet_VI' --kappa=63740.12162162162 --lr_0=0.01 --model_name='l2-sp_kappa=63740.12162162162_lr_0=0.01_n=370_random_state=1001' --n=370 --num_workers=0 --random_state=1001 --save\"\n",
      "    \"python ../src/main_Oxford-IIIT_Pet.py --batch_size=128 --criterion='l2-sp' --dataset_directory='/cluster/tufts/hugheslab/eharve06/Oxford-IIIT_Pet' --ELBo --experiments_directory='/cluster/tufts/hugheslab/eharve06/data-emphasized-ELBo/experiments/retrained_Oxford-IIIT_Pet_VI' --kappa=63740.12162162162 --lr_0=0.01 --model_name='l2-sp_kappa=63740.12162162162_lr_0=0.01_n=370_random_state=2001' --n=370 --num_workers=0 --random_state=2001 --save\"\n",
      "    \"python ../src/main_Oxford-IIIT_Pet.py --batch_size=128 --criterion='l2-sp' --dataset_directory='/cluster/tufts/hugheslab/eharve06/Oxford-IIIT_Pet' --ELBo --experiments_directory='/cluster/tufts/hugheslab/eharve06/data-emphasized-ELBo/experiments/retrained_Oxford-IIIT_Pet_VI' --kappa=63740.12162162162 --lr_0=0.01 --model_name='l2-sp_kappa=63740.12162162162_lr_0=0.01_n=370_random_state=3001' --n=370 --num_workers=0 --random_state=3001 --save\"\n",
      "    \"python ../src/main_Oxford-IIIT_Pet.py --batch_size=128 --criterion='l2-sp' --dataset_directory='/cluster/tufts/hugheslab/eharve06/Oxford-IIIT_Pet' --ELBo --experiments_directory='/cluster/tufts/hugheslab/eharve06/data-emphasized-ELBo/experiments/retrained_Oxford-IIIT_Pet_VI' --kappa=6853.776518453938 --lr_0=0.01 --model_name='l2-sp_kappa=6853.776518453938_lr_0=0.01_n=3441_random_state=1001' --n=3441 --num_workers=0 --random_state=1001 --save\"\n",
      "    \"python ../src/main_Oxford-IIIT_Pet.py --batch_size=128 --criterion='l2-sp' --dataset_directory='/cluster/tufts/hugheslab/eharve06/Oxford-IIIT_Pet' --ELBo --experiments_directory='/cluster/tufts/hugheslab/eharve06/data-emphasized-ELBo/experiments/retrained_Oxford-IIIT_Pet_VI' --kappa=6853.776518453938 --lr_0=0.01 --model_name='l2-sp_kappa=6853.776518453938_lr_0=0.01_n=3441_random_state=2001' --n=3441 --num_workers=0 --random_state=2001 --save\"\n",
      "    \"python ../src/main_Oxford-IIIT_Pet.py --batch_size=128 --criterion='l2-sp' --dataset_directory='/cluster/tufts/hugheslab/eharve06/Oxford-IIIT_Pet' --ELBo --experiments_directory='/cluster/tufts/hugheslab/eharve06/data-emphasized-ELBo/experiments/retrained_Oxford-IIIT_Pet_VI' --kappa=6853.776518453938 --lr_0=0.01 --model_name='l2-sp_kappa=6853.776518453938_lr_0=0.01_n=3441_random_state=3001' --n=3441 --num_workers=0 --random_state=3001 --save\"\n",
      "    \"python ../src/main_Oxford-IIIT_Pet.py --batch_size=128 --criterion='l2-sp' --dataset_directory='/cluster/tufts/hugheslab/eharve06/Oxford-IIIT_Pet' --ELBo --experiments_directory='/cluster/tufts/hugheslab/eharve06/data-emphasized-ELBo/experiments/retrained_Oxford-IIIT_Pet_VI' --kappa=63740.12162162162 --lr_0=0.001 --model_name='l2-sp_kappa=63740.12162162162_lr_0=0.001_n=370_random_state=1001' --n=370 --num_workers=0 --random_state=1001 --save\"\n",
      "    \"python ../src/main_Oxford-IIIT_Pet.py --batch_size=128 --criterion='l2-sp' --dataset_directory='/cluster/tufts/hugheslab/eharve06/Oxford-IIIT_Pet' --ELBo --experiments_directory='/cluster/tufts/hugheslab/eharve06/data-emphasized-ELBo/experiments/retrained_Oxford-IIIT_Pet_VI' --kappa=63740.12162162162 --lr_0=0.001 --model_name='l2-sp_kappa=63740.12162162162_lr_0=0.001_n=370_random_state=2001' --n=370 --num_workers=0 --random_state=2001 --save\"\n",
      "    \"python ../src/main_Oxford-IIIT_Pet.py --batch_size=128 --criterion='l2-sp' --dataset_directory='/cluster/tufts/hugheslab/eharve06/Oxford-IIIT_Pet' --ELBo --experiments_directory='/cluster/tufts/hugheslab/eharve06/data-emphasized-ELBo/experiments/retrained_Oxford-IIIT_Pet_VI' --kappa=63740.12162162162 --lr_0=0.001 --model_name='l2-sp_kappa=63740.12162162162_lr_0=0.001_n=370_random_state=3001' --n=370 --num_workers=0 --random_state=3001 --save\"\n",
      "    \"python ../src/main_Oxford-IIIT_Pet.py --batch_size=128 --criterion='l2-sp' --dataset_directory='/cluster/tufts/hugheslab/eharve06/Oxford-IIIT_Pet' --ELBo --experiments_directory='/cluster/tufts/hugheslab/eharve06/data-emphasized-ELBo/experiments/retrained_Oxford-IIIT_Pet_VI' --kappa=6853.776518453938 --lr_0=0.001 --model_name='l2-sp_kappa=6853.776518453938_lr_0=0.001_n=3441_random_state=1001' --n=3441 --num_workers=0 --random_state=1001 --save\"\n",
      "    \"python ../src/main_Oxford-IIIT_Pet.py --batch_size=128 --criterion='l2-sp' --dataset_directory='/cluster/tufts/hugheslab/eharve06/Oxford-IIIT_Pet' --ELBo --experiments_directory='/cluster/tufts/hugheslab/eharve06/data-emphasized-ELBo/experiments/retrained_Oxford-IIIT_Pet_VI' --kappa=6853.776518453938 --lr_0=0.001 --model_name='l2-sp_kappa=6853.776518453938_lr_0=0.001_n=3441_random_state=2001' --n=3441 --num_workers=0 --random_state=2001 --save\"\n",
      "    \"python ../src/main_Oxford-IIIT_Pet.py --batch_size=128 --criterion='l2-sp' --dataset_directory='/cluster/tufts/hugheslab/eharve06/Oxford-IIIT_Pet' --ELBo --experiments_directory='/cluster/tufts/hugheslab/eharve06/data-emphasized-ELBo/experiments/retrained_Oxford-IIIT_Pet_VI' --kappa=6853.776518453938 --lr_0=0.001 --model_name='l2-sp_kappa=6853.776518453938_lr_0=0.001_n=3441_random_state=3001' --n=3441 --num_workers=0 --random_state=3001 --save\"\n",
      "    \"python ../src/main_Oxford-IIIT_Pet.py --batch_size=128 --criterion='l2-sp' --dataset_directory='/cluster/tufts/hugheslab/eharve06/Oxford-IIIT_Pet' --ELBo --experiments_directory='/cluster/tufts/hugheslab/eharve06/data-emphasized-ELBo/experiments/retrained_Oxford-IIIT_Pet_VI' --kappa=63740.12162162162 --lr_0=0.0001 --model_name='l2-sp_kappa=63740.12162162162_lr_0=0.0001_n=370_random_state=1001' --n=370 --num_workers=0 --random_state=1001 --save\"\n",
      "    \"python ../src/main_Oxford-IIIT_Pet.py --batch_size=128 --criterion='l2-sp' --dataset_directory='/cluster/tufts/hugheslab/eharve06/Oxford-IIIT_Pet' --ELBo --experiments_directory='/cluster/tufts/hugheslab/eharve06/data-emphasized-ELBo/experiments/retrained_Oxford-IIIT_Pet_VI' --kappa=63740.12162162162 --lr_0=0.0001 --model_name='l2-sp_kappa=63740.12162162162_lr_0=0.0001_n=370_random_state=2001' --n=370 --num_workers=0 --random_state=2001 --save\"\n",
      "    \"python ../src/main_Oxford-IIIT_Pet.py --batch_size=128 --criterion='l2-sp' --dataset_directory='/cluster/tufts/hugheslab/eharve06/Oxford-IIIT_Pet' --ELBo --experiments_directory='/cluster/tufts/hugheslab/eharve06/data-emphasized-ELBo/experiments/retrained_Oxford-IIIT_Pet_VI' --kappa=63740.12162162162 --lr_0=0.0001 --model_name='l2-sp_kappa=63740.12162162162_lr_0=0.0001_n=370_random_state=3001' --n=370 --num_workers=0 --random_state=3001 --save\"\n",
      "    \"python ../src/main_Oxford-IIIT_Pet.py --batch_size=128 --criterion='l2-sp' --dataset_directory='/cluster/tufts/hugheslab/eharve06/Oxford-IIIT_Pet' --ELBo --experiments_directory='/cluster/tufts/hugheslab/eharve06/data-emphasized-ELBo/experiments/retrained_Oxford-IIIT_Pet_VI' --kappa=6853.776518453938 --lr_0=0.0001 --model_name='l2-sp_kappa=6853.776518453938_lr_0=0.0001_n=3441_random_state=1001' --n=3441 --num_workers=0 --random_state=1001 --save\"\n",
      "    \"python ../src/main_Oxford-IIIT_Pet.py --batch_size=128 --criterion='l2-sp' --dataset_directory='/cluster/tufts/hugheslab/eharve06/Oxford-IIIT_Pet' --ELBo --experiments_directory='/cluster/tufts/hugheslab/eharve06/data-emphasized-ELBo/experiments/retrained_Oxford-IIIT_Pet_VI' --kappa=6853.776518453938 --lr_0=0.0001 --model_name='l2-sp_kappa=6853.776518453938_lr_0=0.0001_n=3441_random_state=2001' --n=3441 --num_workers=0 --random_state=2001 --save\"\n",
      "    \"python ../src/main_Oxford-IIIT_Pet.py --batch_size=128 --criterion='l2-sp' --dataset_directory='/cluster/tufts/hugheslab/eharve06/Oxford-IIIT_Pet' --ELBo --experiments_directory='/cluster/tufts/hugheslab/eharve06/data-emphasized-ELBo/experiments/retrained_Oxford-IIIT_Pet_VI' --kappa=6853.776518453938 --lr_0=0.0001 --model_name='l2-sp_kappa=6853.776518453938_lr_0=0.0001_n=3441_random_state=3001' --n=3441 --num_workers=0 --random_state=3001 --save\"\n",
      "23\n"
     ]
    }
   ],
   "source": [
    "criterion = 'l2-sp'\n",
    "d = 23583845\n",
    "dataset_directory = '/cluster/tufts/hugheslab/eharve06/Oxford-IIIT_Pet'\n",
    "experiments_directory = '/cluster/tufts/hugheslab/eharve06/data-emphasized-ELBo/experiments/retrained_Oxford-IIIT_Pet_VI'\n",
    "lr_0s = [0.1, 0.01, 0.001, 0.0001]\n",
    "ns = [370, 3441]\n",
    "random_states = [1001, 2001, 3001]\n",
    "\n",
    "count = -1\n",
    "for lr_0, n, random_state in itertools.product(lr_0s, ns, random_states):\n",
    "    model_name = f'{criterion}_kappa={d/n}_lr_0={lr_0}_n={n}_random_state={random_state}'\n",
    "    if os.path.exists(f'{experiments_directory}/{model_name}.csv'):\n",
    "        temp_df = pd.read_csv(f'{experiments_directory}/{model_name}.csv')\n",
    "        if not check_epochs(temp_df, n, batch_size=min(128, n), steps=6000):\n",
    "            count += 1\n",
    "            print(f'    \"python ../src/main_Oxford-IIIT_Pet.py --batch_size=128 --criterion=\\'{criterion}\\' --dataset_directory=\\'{dataset_directory}\\' --ELBo --experiments_directory=\\'{experiments_directory}\\' --kappa={d/n} --lr_0={lr_0} --model_name=\\'{model_name}\\' --n={n} --num_workers=0 --random_state={random_state} --save\"')\n",
    "    else:\n",
    "        count += 1\n",
    "        print(f'    \"python ../src/main_Oxford-IIIT_Pet.py --batch_size=128 --criterion=\\'{criterion}\\' --dataset_directory=\\'{dataset_directory}\\' --ELBo --experiments_directory=\\'{experiments_directory}\\' --kappa={d/n} --lr_0={lr_0} --model_name=\\'{model_name}\\' --n={n} --num_workers=0 --random_state={random_state} --save\"')\n",
    "print(count)"
   ]
  },
  {
   "cell_type": "code",
   "execution_count": 5,
   "metadata": {},
   "outputs": [
    {
     "name": "stdout",
     "output_type": "stream",
     "text": [
      "    \"python ../src/main_Oxford-IIIT_Pet.py --batch_size=128 --criterion='ptyl' --dataset_directory='/cluster/tufts/hugheslab/eharve06/Oxford-IIIT_Pet' --ELBo --experiments_directory='/cluster/tufts/hugheslab/eharve06/data-emphasized-ELBo/experiments/retrained_Oxford-IIIT_Pet_SSL_VI' --kappa=63740.12162162162 --lr_0=0.1 --model_name='ptyl_kappa=63740.12162162162_lr_0=0.1_n=370_random_state=1001' --n=370 --num_workers=0 --prior_directory='/cluster/tufts/hugheslab/eharve06/resnet50_ssl_prior' --prior_type='resnet50_ssl_prior' --random_state=1001 --save\"\n",
      "    \"python ../src/main_Oxford-IIIT_Pet.py --batch_size=128 --criterion='ptyl' --dataset_directory='/cluster/tufts/hugheslab/eharve06/Oxford-IIIT_Pet' --ELBo --experiments_directory='/cluster/tufts/hugheslab/eharve06/data-emphasized-ELBo/experiments/retrained_Oxford-IIIT_Pet_SSL_VI' --kappa=63740.12162162162 --lr_0=0.1 --model_name='ptyl_kappa=63740.12162162162_lr_0=0.1_n=370_random_state=2001' --n=370 --num_workers=0 --prior_directory='/cluster/tufts/hugheslab/eharve06/resnet50_ssl_prior' --prior_type='resnet50_ssl_prior' --random_state=2001 --save\"\n",
      "    \"python ../src/main_Oxford-IIIT_Pet.py --batch_size=128 --criterion='ptyl' --dataset_directory='/cluster/tufts/hugheslab/eharve06/Oxford-IIIT_Pet' --ELBo --experiments_directory='/cluster/tufts/hugheslab/eharve06/data-emphasized-ELBo/experiments/retrained_Oxford-IIIT_Pet_SSL_VI' --kappa=63740.12162162162 --lr_0=0.1 --model_name='ptyl_kappa=63740.12162162162_lr_0=0.1_n=370_random_state=3001' --n=370 --num_workers=0 --prior_directory='/cluster/tufts/hugheslab/eharve06/resnet50_ssl_prior' --prior_type='resnet50_ssl_prior' --random_state=3001 --save\"\n",
      "    \"python ../src/main_Oxford-IIIT_Pet.py --batch_size=128 --criterion='ptyl' --dataset_directory='/cluster/tufts/hugheslab/eharve06/Oxford-IIIT_Pet' --ELBo --experiments_directory='/cluster/tufts/hugheslab/eharve06/data-emphasized-ELBo/experiments/retrained_Oxford-IIIT_Pet_SSL_VI' --kappa=6853.776518453938 --lr_0=0.1 --model_name='ptyl_kappa=6853.776518453938_lr_0=0.1_n=3441_random_state=1001' --n=3441 --num_workers=0 --prior_directory='/cluster/tufts/hugheslab/eharve06/resnet50_ssl_prior' --prior_type='resnet50_ssl_prior' --random_state=1001 --save\"\n",
      "    \"python ../src/main_Oxford-IIIT_Pet.py --batch_size=128 --criterion='ptyl' --dataset_directory='/cluster/tufts/hugheslab/eharve06/Oxford-IIIT_Pet' --ELBo --experiments_directory='/cluster/tufts/hugheslab/eharve06/data-emphasized-ELBo/experiments/retrained_Oxford-IIIT_Pet_SSL_VI' --kappa=6853.776518453938 --lr_0=0.1 --model_name='ptyl_kappa=6853.776518453938_lr_0=0.1_n=3441_random_state=2001' --n=3441 --num_workers=0 --prior_directory='/cluster/tufts/hugheslab/eharve06/resnet50_ssl_prior' --prior_type='resnet50_ssl_prior' --random_state=2001 --save\"\n",
      "    \"python ../src/main_Oxford-IIIT_Pet.py --batch_size=128 --criterion='ptyl' --dataset_directory='/cluster/tufts/hugheslab/eharve06/Oxford-IIIT_Pet' --ELBo --experiments_directory='/cluster/tufts/hugheslab/eharve06/data-emphasized-ELBo/experiments/retrained_Oxford-IIIT_Pet_SSL_VI' --kappa=6853.776518453938 --lr_0=0.1 --model_name='ptyl_kappa=6853.776518453938_lr_0=0.1_n=3441_random_state=3001' --n=3441 --num_workers=0 --prior_directory='/cluster/tufts/hugheslab/eharve06/resnet50_ssl_prior' --prior_type='resnet50_ssl_prior' --random_state=3001 --save\"\n",
      "    \"python ../src/main_Oxford-IIIT_Pet.py --batch_size=128 --criterion='ptyl' --dataset_directory='/cluster/tufts/hugheslab/eharve06/Oxford-IIIT_Pet' --ELBo --experiments_directory='/cluster/tufts/hugheslab/eharve06/data-emphasized-ELBo/experiments/retrained_Oxford-IIIT_Pet_SSL_VI' --kappa=63740.12162162162 --lr_0=0.01 --model_name='ptyl_kappa=63740.12162162162_lr_0=0.01_n=370_random_state=1001' --n=370 --num_workers=0 --prior_directory='/cluster/tufts/hugheslab/eharve06/resnet50_ssl_prior' --prior_type='resnet50_ssl_prior' --random_state=1001 --save\"\n",
      "    \"python ../src/main_Oxford-IIIT_Pet.py --batch_size=128 --criterion='ptyl' --dataset_directory='/cluster/tufts/hugheslab/eharve06/Oxford-IIIT_Pet' --ELBo --experiments_directory='/cluster/tufts/hugheslab/eharve06/data-emphasized-ELBo/experiments/retrained_Oxford-IIIT_Pet_SSL_VI' --kappa=63740.12162162162 --lr_0=0.01 --model_name='ptyl_kappa=63740.12162162162_lr_0=0.01_n=370_random_state=2001' --n=370 --num_workers=0 --prior_directory='/cluster/tufts/hugheslab/eharve06/resnet50_ssl_prior' --prior_type='resnet50_ssl_prior' --random_state=2001 --save\"\n",
      "    \"python ../src/main_Oxford-IIIT_Pet.py --batch_size=128 --criterion='ptyl' --dataset_directory='/cluster/tufts/hugheslab/eharve06/Oxford-IIIT_Pet' --ELBo --experiments_directory='/cluster/tufts/hugheslab/eharve06/data-emphasized-ELBo/experiments/retrained_Oxford-IIIT_Pet_SSL_VI' --kappa=63740.12162162162 --lr_0=0.01 --model_name='ptyl_kappa=63740.12162162162_lr_0=0.01_n=370_random_state=3001' --n=370 --num_workers=0 --prior_directory='/cluster/tufts/hugheslab/eharve06/resnet50_ssl_prior' --prior_type='resnet50_ssl_prior' --random_state=3001 --save\"\n",
      "    \"python ../src/main_Oxford-IIIT_Pet.py --batch_size=128 --criterion='ptyl' --dataset_directory='/cluster/tufts/hugheslab/eharve06/Oxford-IIIT_Pet' --ELBo --experiments_directory='/cluster/tufts/hugheslab/eharve06/data-emphasized-ELBo/experiments/retrained_Oxford-IIIT_Pet_SSL_VI' --kappa=6853.776518453938 --lr_0=0.01 --model_name='ptyl_kappa=6853.776518453938_lr_0=0.01_n=3441_random_state=1001' --n=3441 --num_workers=0 --prior_directory='/cluster/tufts/hugheslab/eharve06/resnet50_ssl_prior' --prior_type='resnet50_ssl_prior' --random_state=1001 --save\"\n",
      "    \"python ../src/main_Oxford-IIIT_Pet.py --batch_size=128 --criterion='ptyl' --dataset_directory='/cluster/tufts/hugheslab/eharve06/Oxford-IIIT_Pet' --ELBo --experiments_directory='/cluster/tufts/hugheslab/eharve06/data-emphasized-ELBo/experiments/retrained_Oxford-IIIT_Pet_SSL_VI' --kappa=6853.776518453938 --lr_0=0.01 --model_name='ptyl_kappa=6853.776518453938_lr_0=0.01_n=3441_random_state=2001' --n=3441 --num_workers=0 --prior_directory='/cluster/tufts/hugheslab/eharve06/resnet50_ssl_prior' --prior_type='resnet50_ssl_prior' --random_state=2001 --save\"\n",
      "    \"python ../src/main_Oxford-IIIT_Pet.py --batch_size=128 --criterion='ptyl' --dataset_directory='/cluster/tufts/hugheslab/eharve06/Oxford-IIIT_Pet' --ELBo --experiments_directory='/cluster/tufts/hugheslab/eharve06/data-emphasized-ELBo/experiments/retrained_Oxford-IIIT_Pet_SSL_VI' --kappa=6853.776518453938 --lr_0=0.01 --model_name='ptyl_kappa=6853.776518453938_lr_0=0.01_n=3441_random_state=3001' --n=3441 --num_workers=0 --prior_directory='/cluster/tufts/hugheslab/eharve06/resnet50_ssl_prior' --prior_type='resnet50_ssl_prior' --random_state=3001 --save\"\n",
      "    \"python ../src/main_Oxford-IIIT_Pet.py --batch_size=128 --criterion='ptyl' --dataset_directory='/cluster/tufts/hugheslab/eharve06/Oxford-IIIT_Pet' --ELBo --experiments_directory='/cluster/tufts/hugheslab/eharve06/data-emphasized-ELBo/experiments/retrained_Oxford-IIIT_Pet_SSL_VI' --kappa=63740.12162162162 --lr_0=0.001 --model_name='ptyl_kappa=63740.12162162162_lr_0=0.001_n=370_random_state=1001' --n=370 --num_workers=0 --prior_directory='/cluster/tufts/hugheslab/eharve06/resnet50_ssl_prior' --prior_type='resnet50_ssl_prior' --random_state=1001 --save\"\n",
      "    \"python ../src/main_Oxford-IIIT_Pet.py --batch_size=128 --criterion='ptyl' --dataset_directory='/cluster/tufts/hugheslab/eharve06/Oxford-IIIT_Pet' --ELBo --experiments_directory='/cluster/tufts/hugheslab/eharve06/data-emphasized-ELBo/experiments/retrained_Oxford-IIIT_Pet_SSL_VI' --kappa=63740.12162162162 --lr_0=0.001 --model_name='ptyl_kappa=63740.12162162162_lr_0=0.001_n=370_random_state=2001' --n=370 --num_workers=0 --prior_directory='/cluster/tufts/hugheslab/eharve06/resnet50_ssl_prior' --prior_type='resnet50_ssl_prior' --random_state=2001 --save\"\n",
      "    \"python ../src/main_Oxford-IIIT_Pet.py --batch_size=128 --criterion='ptyl' --dataset_directory='/cluster/tufts/hugheslab/eharve06/Oxford-IIIT_Pet' --ELBo --experiments_directory='/cluster/tufts/hugheslab/eharve06/data-emphasized-ELBo/experiments/retrained_Oxford-IIIT_Pet_SSL_VI' --kappa=63740.12162162162 --lr_0=0.001 --model_name='ptyl_kappa=63740.12162162162_lr_0=0.001_n=370_random_state=3001' --n=370 --num_workers=0 --prior_directory='/cluster/tufts/hugheslab/eharve06/resnet50_ssl_prior' --prior_type='resnet50_ssl_prior' --random_state=3001 --save\"\n",
      "    \"python ../src/main_Oxford-IIIT_Pet.py --batch_size=128 --criterion='ptyl' --dataset_directory='/cluster/tufts/hugheslab/eharve06/Oxford-IIIT_Pet' --ELBo --experiments_directory='/cluster/tufts/hugheslab/eharve06/data-emphasized-ELBo/experiments/retrained_Oxford-IIIT_Pet_SSL_VI' --kappa=6853.776518453938 --lr_0=0.001 --model_name='ptyl_kappa=6853.776518453938_lr_0=0.001_n=3441_random_state=1001' --n=3441 --num_workers=0 --prior_directory='/cluster/tufts/hugheslab/eharve06/resnet50_ssl_prior' --prior_type='resnet50_ssl_prior' --random_state=1001 --save\"\n",
      "    \"python ../src/main_Oxford-IIIT_Pet.py --batch_size=128 --criterion='ptyl' --dataset_directory='/cluster/tufts/hugheslab/eharve06/Oxford-IIIT_Pet' --ELBo --experiments_directory='/cluster/tufts/hugheslab/eharve06/data-emphasized-ELBo/experiments/retrained_Oxford-IIIT_Pet_SSL_VI' --kappa=6853.776518453938 --lr_0=0.001 --model_name='ptyl_kappa=6853.776518453938_lr_0=0.001_n=3441_random_state=2001' --n=3441 --num_workers=0 --prior_directory='/cluster/tufts/hugheslab/eharve06/resnet50_ssl_prior' --prior_type='resnet50_ssl_prior' --random_state=2001 --save\"\n",
      "    \"python ../src/main_Oxford-IIIT_Pet.py --batch_size=128 --criterion='ptyl' --dataset_directory='/cluster/tufts/hugheslab/eharve06/Oxford-IIIT_Pet' --ELBo --experiments_directory='/cluster/tufts/hugheslab/eharve06/data-emphasized-ELBo/experiments/retrained_Oxford-IIIT_Pet_SSL_VI' --kappa=6853.776518453938 --lr_0=0.001 --model_name='ptyl_kappa=6853.776518453938_lr_0=0.001_n=3441_random_state=3001' --n=3441 --num_workers=0 --prior_directory='/cluster/tufts/hugheslab/eharve06/resnet50_ssl_prior' --prior_type='resnet50_ssl_prior' --random_state=3001 --save\"\n",
      "    \"python ../src/main_Oxford-IIIT_Pet.py --batch_size=128 --criterion='ptyl' --dataset_directory='/cluster/tufts/hugheslab/eharve06/Oxford-IIIT_Pet' --ELBo --experiments_directory='/cluster/tufts/hugheslab/eharve06/data-emphasized-ELBo/experiments/retrained_Oxford-IIIT_Pet_SSL_VI' --kappa=63740.12162162162 --lr_0=0.0001 --model_name='ptyl_kappa=63740.12162162162_lr_0=0.0001_n=370_random_state=1001' --n=370 --num_workers=0 --prior_directory='/cluster/tufts/hugheslab/eharve06/resnet50_ssl_prior' --prior_type='resnet50_ssl_prior' --random_state=1001 --save\"\n",
      "    \"python ../src/main_Oxford-IIIT_Pet.py --batch_size=128 --criterion='ptyl' --dataset_directory='/cluster/tufts/hugheslab/eharve06/Oxford-IIIT_Pet' --ELBo --experiments_directory='/cluster/tufts/hugheslab/eharve06/data-emphasized-ELBo/experiments/retrained_Oxford-IIIT_Pet_SSL_VI' --kappa=63740.12162162162 --lr_0=0.0001 --model_name='ptyl_kappa=63740.12162162162_lr_0=0.0001_n=370_random_state=2001' --n=370 --num_workers=0 --prior_directory='/cluster/tufts/hugheslab/eharve06/resnet50_ssl_prior' --prior_type='resnet50_ssl_prior' --random_state=2001 --save\"\n",
      "    \"python ../src/main_Oxford-IIIT_Pet.py --batch_size=128 --criterion='ptyl' --dataset_directory='/cluster/tufts/hugheslab/eharve06/Oxford-IIIT_Pet' --ELBo --experiments_directory='/cluster/tufts/hugheslab/eharve06/data-emphasized-ELBo/experiments/retrained_Oxford-IIIT_Pet_SSL_VI' --kappa=63740.12162162162 --lr_0=0.0001 --model_name='ptyl_kappa=63740.12162162162_lr_0=0.0001_n=370_random_state=3001' --n=370 --num_workers=0 --prior_directory='/cluster/tufts/hugheslab/eharve06/resnet50_ssl_prior' --prior_type='resnet50_ssl_prior' --random_state=3001 --save\"\n",
      "    \"python ../src/main_Oxford-IIIT_Pet.py --batch_size=128 --criterion='ptyl' --dataset_directory='/cluster/tufts/hugheslab/eharve06/Oxford-IIIT_Pet' --ELBo --experiments_directory='/cluster/tufts/hugheslab/eharve06/data-emphasized-ELBo/experiments/retrained_Oxford-IIIT_Pet_SSL_VI' --kappa=6853.776518453938 --lr_0=0.0001 --model_name='ptyl_kappa=6853.776518453938_lr_0=0.0001_n=3441_random_state=1001' --n=3441 --num_workers=0 --prior_directory='/cluster/tufts/hugheslab/eharve06/resnet50_ssl_prior' --prior_type='resnet50_ssl_prior' --random_state=1001 --save\"\n",
      "    \"python ../src/main_Oxford-IIIT_Pet.py --batch_size=128 --criterion='ptyl' --dataset_directory='/cluster/tufts/hugheslab/eharve06/Oxford-IIIT_Pet' --ELBo --experiments_directory='/cluster/tufts/hugheslab/eharve06/data-emphasized-ELBo/experiments/retrained_Oxford-IIIT_Pet_SSL_VI' --kappa=6853.776518453938 --lr_0=0.0001 --model_name='ptyl_kappa=6853.776518453938_lr_0=0.0001_n=3441_random_state=2001' --n=3441 --num_workers=0 --prior_directory='/cluster/tufts/hugheslab/eharve06/resnet50_ssl_prior' --prior_type='resnet50_ssl_prior' --random_state=2001 --save\"\n",
      "    \"python ../src/main_Oxford-IIIT_Pet.py --batch_size=128 --criterion='ptyl' --dataset_directory='/cluster/tufts/hugheslab/eharve06/Oxford-IIIT_Pet' --ELBo --experiments_directory='/cluster/tufts/hugheslab/eharve06/data-emphasized-ELBo/experiments/retrained_Oxford-IIIT_Pet_SSL_VI' --kappa=6853.776518453938 --lr_0=0.0001 --model_name='ptyl_kappa=6853.776518453938_lr_0=0.0001_n=3441_random_state=3001' --n=3441 --num_workers=0 --prior_directory='/cluster/tufts/hugheslab/eharve06/resnet50_ssl_prior' --prior_type='resnet50_ssl_prior' --random_state=3001 --save\"\n",
      "23\n"
     ]
    }
   ],
   "source": [
    "criterion = 'ptyl'\n",
    "d = 23583845\n",
    "dataset_directory = '/cluster/tufts/hugheslab/eharve06/Oxford-IIIT_Pet'\n",
    "experiments_directory = '/cluster/tufts/hugheslab/eharve06/data-emphasized-ELBo/experiments/retrained_Oxford-IIIT_Pet_SSL_VI'\n",
    "lr_0s = [0.1, 0.01, 0.001, 0.0001]\n",
    "ns = [370, 3441]\n",
    "prior_directory = '/cluster/tufts/hugheslab/eharve06/resnet50_ssl_prior'\n",
    "prior_type = 'resnet50_ssl_prior'\n",
    "random_states = [1001, 2001, 3001]\n",
    "\n",
    "count = -1\n",
    "for lr_0, n, random_state in itertools.product(lr_0s, ns, random_states):\n",
    "    model_name = f'{criterion}_kappa={d/n}_lr_0={lr_0}_n={n}_random_state={random_state}'\n",
    "    if os.path.exists(f'{experiments_directory}/{model_name}.csv'):\n",
    "        temp_df = pd.read_csv(f'{experiments_directory}/{model_name}.csv')\n",
    "        if not check_epochs(temp_df, n, batch_size=min(128, n), steps=6000):\n",
    "            count += 1\n",
    "            print(f'    \"python ../src/main_Oxford-IIIT_Pet.py --batch_size=128 --criterion=\\'{criterion}\\' --dataset_directory=\\'{dataset_directory}\\' --ELBo --experiments_directory=\\'{experiments_directory}\\' --kappa={d/n} --lr_0={lr_0} --model_name=\\'{model_name}\\' --n={n} --num_workers=0 --prior_directory=\\'{prior_directory}\\' --prior_type=\\'{prior_type}\\' --random_state={random_state} --save\"')\n",
    "    else:\n",
    "        count += 1\n",
    "        print(f'    \"python ../src/main_Oxford-IIIT_Pet.py --batch_size=128 --criterion=\\'{criterion}\\' --dataset_directory=\\'{dataset_directory}\\' --ELBo --experiments_directory=\\'{experiments_directory}\\' --kappa={d/n} --lr_0={lr_0} --model_name=\\'{model_name}\\' --n={n} --num_workers=0 --prior_directory=\\'{prior_directory}\\' --prior_type=\\'{prior_type}\\' --random_state={random_state} --save\"')\n",
    "print(count)"
   ]
  },
  {
   "cell_type": "code",
   "execution_count": 6,
   "metadata": {},
   "outputs": [
    {
     "name": "stdout",
     "output_type": "stream",
     "text": [
      "    \"python ../src/main_Oxford-IIIT_Pet.py --batch_size=128 --criterion='ptyl' --dataset_directory='/cluster/tufts/hugheslab/eharve06/CIFAR-10' --ELBo --experiments_directory='/cluster/tufts/hugheslab/eharve06/data-emphasized-ELBo/experiments/retrained_Oxford-IIIT_Pet_VI' --kappa=63740.12162162162 --lr_0=0.1 --model_name='ptyl_kappa=63740.12162162162_lr_0=0.1_n=370_random_state=1001' --n=370 --num_workers=0 --random_state=1001 --save\"\n",
      "    \"python ../src/main_Oxford-IIIT_Pet.py --batch_size=128 --criterion='ptyl' --dataset_directory='/cluster/tufts/hugheslab/eharve06/CIFAR-10' --ELBo --experiments_directory='/cluster/tufts/hugheslab/eharve06/data-emphasized-ELBo/experiments/retrained_Oxford-IIIT_Pet_VI' --kappa=63740.12162162162 --lr_0=0.1 --model_name='ptyl_kappa=63740.12162162162_lr_0=0.1_n=370_random_state=2001' --n=370 --num_workers=0 --random_state=2001 --save\"\n",
      "    \"python ../src/main_Oxford-IIIT_Pet.py --batch_size=128 --criterion='ptyl' --dataset_directory='/cluster/tufts/hugheslab/eharve06/CIFAR-10' --ELBo --experiments_directory='/cluster/tufts/hugheslab/eharve06/data-emphasized-ELBo/experiments/retrained_Oxford-IIIT_Pet_VI' --kappa=63740.12162162162 --lr_0=0.1 --model_name='ptyl_kappa=63740.12162162162_lr_0=0.1_n=370_random_state=3001' --n=370 --num_workers=0 --random_state=3001 --save\"\n",
      "    \"python ../src/main_Oxford-IIIT_Pet.py --batch_size=128 --criterion='ptyl' --dataset_directory='/cluster/tufts/hugheslab/eharve06/CIFAR-10' --ELBo --experiments_directory='/cluster/tufts/hugheslab/eharve06/data-emphasized-ELBo/experiments/retrained_Oxford-IIIT_Pet_VI' --kappa=6853.776518453938 --lr_0=0.1 --model_name='ptyl_kappa=6853.776518453938_lr_0=0.1_n=3441_random_state=1001' --n=3441 --num_workers=0 --random_state=1001 --save\"\n",
      "    \"python ../src/main_Oxford-IIIT_Pet.py --batch_size=128 --criterion='ptyl' --dataset_directory='/cluster/tufts/hugheslab/eharve06/CIFAR-10' --ELBo --experiments_directory='/cluster/tufts/hugheslab/eharve06/data-emphasized-ELBo/experiments/retrained_Oxford-IIIT_Pet_VI' --kappa=6853.776518453938 --lr_0=0.1 --model_name='ptyl_kappa=6853.776518453938_lr_0=0.1_n=3441_random_state=2001' --n=3441 --num_workers=0 --random_state=2001 --save\"\n",
      "    \"python ../src/main_Oxford-IIIT_Pet.py --batch_size=128 --criterion='ptyl' --dataset_directory='/cluster/tufts/hugheslab/eharve06/CIFAR-10' --ELBo --experiments_directory='/cluster/tufts/hugheslab/eharve06/data-emphasized-ELBo/experiments/retrained_Oxford-IIIT_Pet_VI' --kappa=6853.776518453938 --lr_0=0.1 --model_name='ptyl_kappa=6853.776518453938_lr_0=0.1_n=3441_random_state=3001' --n=3441 --num_workers=0 --random_state=3001 --save\"\n",
      "    \"python ../src/main_Oxford-IIIT_Pet.py --batch_size=128 --criterion='ptyl' --dataset_directory='/cluster/tufts/hugheslab/eharve06/CIFAR-10' --ELBo --experiments_directory='/cluster/tufts/hugheslab/eharve06/data-emphasized-ELBo/experiments/retrained_Oxford-IIIT_Pet_VI' --kappa=63740.12162162162 --lr_0=0.01 --model_name='ptyl_kappa=63740.12162162162_lr_0=0.01_n=370_random_state=1001' --n=370 --num_workers=0 --random_state=1001 --save\"\n",
      "    \"python ../src/main_Oxford-IIIT_Pet.py --batch_size=128 --criterion='ptyl' --dataset_directory='/cluster/tufts/hugheslab/eharve06/CIFAR-10' --ELBo --experiments_directory='/cluster/tufts/hugheslab/eharve06/data-emphasized-ELBo/experiments/retrained_Oxford-IIIT_Pet_VI' --kappa=63740.12162162162 --lr_0=0.01 --model_name='ptyl_kappa=63740.12162162162_lr_0=0.01_n=370_random_state=2001' --n=370 --num_workers=0 --random_state=2001 --save\"\n",
      "    \"python ../src/main_Oxford-IIIT_Pet.py --batch_size=128 --criterion='ptyl' --dataset_directory='/cluster/tufts/hugheslab/eharve06/CIFAR-10' --ELBo --experiments_directory='/cluster/tufts/hugheslab/eharve06/data-emphasized-ELBo/experiments/retrained_Oxford-IIIT_Pet_VI' --kappa=63740.12162162162 --lr_0=0.01 --model_name='ptyl_kappa=63740.12162162162_lr_0=0.01_n=370_random_state=3001' --n=370 --num_workers=0 --random_state=3001 --save\"\n",
      "    \"python ../src/main_Oxford-IIIT_Pet.py --batch_size=128 --criterion='ptyl' --dataset_directory='/cluster/tufts/hugheslab/eharve06/CIFAR-10' --ELBo --experiments_directory='/cluster/tufts/hugheslab/eharve06/data-emphasized-ELBo/experiments/retrained_Oxford-IIIT_Pet_VI' --kappa=6853.776518453938 --lr_0=0.01 --model_name='ptyl_kappa=6853.776518453938_lr_0=0.01_n=3441_random_state=1001' --n=3441 --num_workers=0 --random_state=1001 --save\"\n",
      "    \"python ../src/main_Oxford-IIIT_Pet.py --batch_size=128 --criterion='ptyl' --dataset_directory='/cluster/tufts/hugheslab/eharve06/CIFAR-10' --ELBo --experiments_directory='/cluster/tufts/hugheslab/eharve06/data-emphasized-ELBo/experiments/retrained_Oxford-IIIT_Pet_VI' --kappa=6853.776518453938 --lr_0=0.01 --model_name='ptyl_kappa=6853.776518453938_lr_0=0.01_n=3441_random_state=2001' --n=3441 --num_workers=0 --random_state=2001 --save\"\n",
      "    \"python ../src/main_Oxford-IIIT_Pet.py --batch_size=128 --criterion='ptyl' --dataset_directory='/cluster/tufts/hugheslab/eharve06/CIFAR-10' --ELBo --experiments_directory='/cluster/tufts/hugheslab/eharve06/data-emphasized-ELBo/experiments/retrained_Oxford-IIIT_Pet_VI' --kappa=6853.776518453938 --lr_0=0.01 --model_name='ptyl_kappa=6853.776518453938_lr_0=0.01_n=3441_random_state=3001' --n=3441 --num_workers=0 --random_state=3001 --save\"\n",
      "    \"python ../src/main_Oxford-IIIT_Pet.py --batch_size=128 --criterion='ptyl' --dataset_directory='/cluster/tufts/hugheslab/eharve06/CIFAR-10' --ELBo --experiments_directory='/cluster/tufts/hugheslab/eharve06/data-emphasized-ELBo/experiments/retrained_Oxford-IIIT_Pet_VI' --kappa=63740.12162162162 --lr_0=0.001 --model_name='ptyl_kappa=63740.12162162162_lr_0=0.001_n=370_random_state=1001' --n=370 --num_workers=0 --random_state=1001 --save\"\n",
      "    \"python ../src/main_Oxford-IIIT_Pet.py --batch_size=128 --criterion='ptyl' --dataset_directory='/cluster/tufts/hugheslab/eharve06/CIFAR-10' --ELBo --experiments_directory='/cluster/tufts/hugheslab/eharve06/data-emphasized-ELBo/experiments/retrained_Oxford-IIIT_Pet_VI' --kappa=63740.12162162162 --lr_0=0.001 --model_name='ptyl_kappa=63740.12162162162_lr_0=0.001_n=370_random_state=2001' --n=370 --num_workers=0 --random_state=2001 --save\"\n",
      "    \"python ../src/main_Oxford-IIIT_Pet.py --batch_size=128 --criterion='ptyl' --dataset_directory='/cluster/tufts/hugheslab/eharve06/CIFAR-10' --ELBo --experiments_directory='/cluster/tufts/hugheslab/eharve06/data-emphasized-ELBo/experiments/retrained_Oxford-IIIT_Pet_VI' --kappa=63740.12162162162 --lr_0=0.001 --model_name='ptyl_kappa=63740.12162162162_lr_0=0.001_n=370_random_state=3001' --n=370 --num_workers=0 --random_state=3001 --save\"\n",
      "    \"python ../src/main_Oxford-IIIT_Pet.py --batch_size=128 --criterion='ptyl' --dataset_directory='/cluster/tufts/hugheslab/eharve06/CIFAR-10' --ELBo --experiments_directory='/cluster/tufts/hugheslab/eharve06/data-emphasized-ELBo/experiments/retrained_Oxford-IIIT_Pet_VI' --kappa=6853.776518453938 --lr_0=0.001 --model_name='ptyl_kappa=6853.776518453938_lr_0=0.001_n=3441_random_state=1001' --n=3441 --num_workers=0 --random_state=1001 --save\"\n",
      "    \"python ../src/main_Oxford-IIIT_Pet.py --batch_size=128 --criterion='ptyl' --dataset_directory='/cluster/tufts/hugheslab/eharve06/CIFAR-10' --ELBo --experiments_directory='/cluster/tufts/hugheslab/eharve06/data-emphasized-ELBo/experiments/retrained_Oxford-IIIT_Pet_VI' --kappa=6853.776518453938 --lr_0=0.001 --model_name='ptyl_kappa=6853.776518453938_lr_0=0.001_n=3441_random_state=2001' --n=3441 --num_workers=0 --random_state=2001 --save\"\n",
      "    \"python ../src/main_Oxford-IIIT_Pet.py --batch_size=128 --criterion='ptyl' --dataset_directory='/cluster/tufts/hugheslab/eharve06/CIFAR-10' --ELBo --experiments_directory='/cluster/tufts/hugheslab/eharve06/data-emphasized-ELBo/experiments/retrained_Oxford-IIIT_Pet_VI' --kappa=6853.776518453938 --lr_0=0.001 --model_name='ptyl_kappa=6853.776518453938_lr_0=0.001_n=3441_random_state=3001' --n=3441 --num_workers=0 --random_state=3001 --save\"\n",
      "    \"python ../src/main_Oxford-IIIT_Pet.py --batch_size=128 --criterion='ptyl' --dataset_directory='/cluster/tufts/hugheslab/eharve06/CIFAR-10' --ELBo --experiments_directory='/cluster/tufts/hugheslab/eharve06/data-emphasized-ELBo/experiments/retrained_Oxford-IIIT_Pet_VI' --kappa=63740.12162162162 --lr_0=0.0001 --model_name='ptyl_kappa=63740.12162162162_lr_0=0.0001_n=370_random_state=1001' --n=370 --num_workers=0 --random_state=1001 --save\"\n",
      "    \"python ../src/main_Oxford-IIIT_Pet.py --batch_size=128 --criterion='ptyl' --dataset_directory='/cluster/tufts/hugheslab/eharve06/CIFAR-10' --ELBo --experiments_directory='/cluster/tufts/hugheslab/eharve06/data-emphasized-ELBo/experiments/retrained_Oxford-IIIT_Pet_VI' --kappa=63740.12162162162 --lr_0=0.0001 --model_name='ptyl_kappa=63740.12162162162_lr_0=0.0001_n=370_random_state=2001' --n=370 --num_workers=0 --random_state=2001 --save\"\n",
      "    \"python ../src/main_Oxford-IIIT_Pet.py --batch_size=128 --criterion='ptyl' --dataset_directory='/cluster/tufts/hugheslab/eharve06/CIFAR-10' --ELBo --experiments_directory='/cluster/tufts/hugheslab/eharve06/data-emphasized-ELBo/experiments/retrained_Oxford-IIIT_Pet_VI' --kappa=63740.12162162162 --lr_0=0.0001 --model_name='ptyl_kappa=63740.12162162162_lr_0=0.0001_n=370_random_state=3001' --n=370 --num_workers=0 --random_state=3001 --save\"\n",
      "    \"python ../src/main_Oxford-IIIT_Pet.py --batch_size=128 --criterion='ptyl' --dataset_directory='/cluster/tufts/hugheslab/eharve06/CIFAR-10' --ELBo --experiments_directory='/cluster/tufts/hugheslab/eharve06/data-emphasized-ELBo/experiments/retrained_Oxford-IIIT_Pet_VI' --kappa=6853.776518453938 --lr_0=0.0001 --model_name='ptyl_kappa=6853.776518453938_lr_0=0.0001_n=3441_random_state=1001' --n=3441 --num_workers=0 --random_state=1001 --save\"\n",
      "    \"python ../src/main_Oxford-IIIT_Pet.py --batch_size=128 --criterion='ptyl' --dataset_directory='/cluster/tufts/hugheslab/eharve06/CIFAR-10' --ELBo --experiments_directory='/cluster/tufts/hugheslab/eharve06/data-emphasized-ELBo/experiments/retrained_Oxford-IIIT_Pet_VI' --kappa=6853.776518453938 --lr_0=0.0001 --model_name='ptyl_kappa=6853.776518453938_lr_0=0.0001_n=3441_random_state=2001' --n=3441 --num_workers=0 --random_state=2001 --save\"\n",
      "    \"python ../src/main_Oxford-IIIT_Pet.py --batch_size=128 --criterion='ptyl' --dataset_directory='/cluster/tufts/hugheslab/eharve06/CIFAR-10' --ELBo --experiments_directory='/cluster/tufts/hugheslab/eharve06/data-emphasized-ELBo/experiments/retrained_Oxford-IIIT_Pet_VI' --kappa=6853.776518453938 --lr_0=0.0001 --model_name='ptyl_kappa=6853.776518453938_lr_0=0.0001_n=3441_random_state=3001' --n=3441 --num_workers=0 --random_state=3001 --save\"\n",
      "23\n"
     ]
    }
   ],
   "source": [
    "criterion = 'ptyl'\n",
    "d = 23583845\n",
    "dataset_directory = '/cluster/tufts/hugheslab/eharve06/CIFAR-10'\n",
    "experiments_directory = '/cluster/tufts/hugheslab/eharve06/data-emphasized-ELBo/experiments/retrained_Oxford-IIIT_Pet_VI'\n",
    "lr_0s = [0.1, 0.01, 0.001, 0.0001]\n",
    "ns = [370, 3441]\n",
    "random_states = [1001, 2001, 3001]\n",
    "\n",
    "count = -1\n",
    "for lr_0, n, random_state in itertools.product(lr_0s, ns, random_states):\n",
    "    model_name = f'{criterion}_kappa={d/n}_lr_0={lr_0}_n={n}_random_state={random_state}'\n",
    "    if os.path.exists(f'{experiments_directory}/{model_name}.csv'):\n",
    "        temp_df = pd.read_csv(f'{experiments_directory}/{model_name}.csv')\n",
    "        if not check_epochs(temp_df, n, batch_size=min(128, n), steps=6000):\n",
    "            count += 1\n",
    "            print(f'    \"python ../src/main_Oxford-IIIT_Pet.py --batch_size=128 --criterion=\\'{criterion}\\' --dataset_directory=\\'{dataset_directory}\\' --ELBo --experiments_directory=\\'{experiments_directory}\\' --kappa={d/n} --lr_0={lr_0} --model_name=\\'{model_name}\\' --n={n} --num_workers=0 --random_state={random_state} --save\"')\n",
    "    else:\n",
    "        count += 1\n",
    "        print(f'    \"python ../src/main_Oxford-IIIT_Pet.py --batch_size=128 --criterion=\\'{criterion}\\' --dataset_directory=\\'{dataset_directory}\\' --ELBo --experiments_directory=\\'{experiments_directory}\\' --kappa={d/n} --lr_0={lr_0} --model_name=\\'{model_name}\\' --n={n} --num_workers=0 --random_state={random_state} --save\"')\n",
    "print(count)"
   ]
  },
  {
   "cell_type": "code",
   "execution_count": null,
   "metadata": {},
   "outputs": [],
   "source": []
  }
 ],
 "metadata": {
  "kernelspec": {
   "display_name": "bdl-transfer-learning",
   "language": "python",
   "name": "bdl-transfer-learning"
  },
  "language_info": {
   "codemirror_mode": {
    "name": "ipython",
    "version": 3
   },
   "file_extension": ".py",
   "mimetype": "text/x-python",
   "name": "python",
   "nbconvert_exporter": "python",
   "pygments_lexer": "ipython3",
   "version": "3.8.0"
  }
 },
 "nbformat": 4,
 "nbformat_minor": 2
}

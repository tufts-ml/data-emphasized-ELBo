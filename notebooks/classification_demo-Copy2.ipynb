{
 "cells": [
  {
   "cell_type": "code",
   "execution_count": 1,
   "metadata": {},
   "outputs": [],
   "source": [
    "import tqdm\n",
    "import itertools\n",
    "import types\n",
    "import math\n",
    "import numpy as np\n",
    "import matplotlib.pyplot as plt\n",
    "plt.rcParams.update({'font.size': 14})\n",
    "from matplotlib.colors import LinearSegmentedColormap\n",
    "from sklearn.datasets import make_moons\n",
    "from sklearn.metrics.pairwise import rbf_kernel\n",
    "# PyTorch\n",
    "import torch\n",
    "torch.manual_seed(42)\n",
    "import gpytorch"
   ]
  },
  {
   "cell_type": "code",
   "execution_count": 2,
   "metadata": {},
   "outputs": [],
   "source": [
    "import sys\n",
    "sys.path.append('../src/')\n",
    "\n",
    "%load_ext autoreload\n",
    "%autoreload 2\n",
    "# Importing our custom module(s)\n",
    "import layers\n",
    "import losses\n",
    "import utils"
   ]
  },
  {
   "cell_type": "code",
   "execution_count": 3,
   "metadata": {},
   "outputs": [
    {
     "data": {
      "image/png": "[encoded data removed]",
      "text/plain": [
       "<Figure size 400x300 with 1 Axes>"
      ]
     },
     "metadata": {},
     "output_type": "display_data"
    }
   ],
   "source": [
    "N = 20\n",
    "X_numpy, y_numpy = make_moons(n_samples=N, noise=0.1, random_state=42)\n",
    "\n",
    "X = torch.tensor(X_numpy, dtype=torch.float32)\n",
    "y = torch.tensor(y_numpy.reshape(-1, 1), dtype=torch.float32)\n",
    "\n",
    "X_train, X_val = X[:int((4/5)*N)], X[int((4/5)*N):]\n",
    "y_train, y_val = y[:int((4/5)*N)], y[int((4/5)*N):]\n",
    "\n",
    "ncols, nrows = 1, 1\n",
    "fig, ax = plt.subplots(figsize=(4*ncols, 3*nrows), ncols=ncols, nrows=nrows, sharex=True, sharey='row')\n",
    "ax.scatter(X_numpy[:,0][y_numpy==0], X_numpy[:,1][y_numpy==0], color='#1F77B4')\n",
    "ax.scatter(X_numpy[:,0][y_numpy==1], X_numpy[:,1][y_numpy==1], color='#D62728')\n",
    "#ax.set_xlim([-1.4, 2.4])\n",
    "#ax.set_ylim([-0.9, 1.4])\n",
    "plt.xlabel(r'$x$')\n",
    "plt.ylabel(r'$y$')\n",
    "fig.tight_layout()\n",
    "plt.show()"
   ]
  },
  {
   "cell_type": "code",
   "execution_count": 4,
   "metadata": {},
   "outputs": [],
   "source": [
    "def train_one_epoch(model, criterion, optimizer, X, y, num_samples=1):\n",
    "    model.train()\n",
    "    optimizer.zero_grad()\n",
    "    \n",
    "    avg_metrics = {}\n",
    "    for _ in range(num_samples):\n",
    "        \n",
    "        logits = model(X)\n",
    "        params = utils.flatten_params(model)\n",
    "        metrics = criterion(y, logits, params, len(X))\n",
    "        metrics['loss'].backward()\n",
    "        \n",
    "        for key, value in metrics.items():\n",
    "            avg_metrics.setdefault(key, 0.0)\n",
    "            avg_metrics[key] += (1/num_samples) * value.item()\n",
    "        \n",
    "    for param in model.parameters():\n",
    "        if param.grad is not None:\n",
    "            param.grad.data.mul_(1/num_samples)\n",
    "\n",
    "    optimizer.step()\n",
    "    return avg_metrics\n",
    "\n",
    "def evaluate(model, criterion, X, y):\n",
    "    model.eval()\n",
    "    with torch.no_grad():\n",
    "        logits = model(X)\n",
    "        params = utils.flatten_params(model)\n",
    "        metrics = criterion(y, logits, params, len(X))\n",
    "    return metrics"
   ]
  },
  {
   "cell_type": "code",
   "execution_count": 7,
   "metadata": {},
   "outputs": [
    {
     "name": "stderr",
     "output_type": "stream",
     "text": [
      "100%|██████████| 10000/10000 [06:01<00:00, 27.69it/s]\n",
      "100%|██████████| 10000/10000 [06:09<00:00, 27.04it/s]\n",
      "100%|██████████| 10000/10000 [05:54<00:00, 28.20it/s]\n",
      "100%|██████████| 10000/10000 [04:20<00:00, 38.34it/s]\n"
     ]
    }
   ],
   "source": [
    "model = layers.RandomFeatureGaussianProcess(in_features=2, out_features=1, learnable_lengthscale=True, learnable_outputscale=True)\n",
    "model.sigma_param = torch.nn.Parameter(torch.log(torch.expm1(torch.tensor(1e-4))))\n",
    "utils.add_variational_layers(model, model.sigma_param)\n",
    "model.use_posterior = types.MethodType(utils.use_posterior, model)\n",
    "criterion = losses.KappaELBoLoss(1.0, model.sigma_param, criterion=torch.nn.BCEWithLogitsLoss())\n",
    "\n",
    "init_state_dict = model.state_dict()\n",
    "best_state_dict = None\n",
    "best_metric = np.inf\n",
    "\n",
    "for lr, weight_decay in itertools.product([0.1, 0.01, 0.001, 0.0001], [0.0]):\n",
    "    \n",
    "    model.load_state_dict(init_state_dict)\n",
    "    optimizer = torch.optim.Adam(model.parameters(), lr=lr, weight_decay=weight_decay)\n",
    "    \n",
    "    for epoch in tqdm.tqdm(range(10_000)):\n",
    "        train_metrics = train_one_epoch(model, criterion, optimizer, X, y, 5)\n",
    "\n",
    "    if train_metrics['loss'] < best_metric:\n",
    "        best_state_dict = model.state_dict()\n",
    "        best_metric = train_metrics['loss']\n",
    "        \n",
    "model.load_state_dict(best_state_dict)\n",
    "model.eval()\n",
    "\n",
    "with torch.no_grad():\n",
    "    xx, yy = np.meshgrid(np.arange(-1.4, 2.5, 0.05), np.arange(-0.9, 1.5, 0.05))\n",
    "    de_elbo_preds1 = torch.nn.functional.sigmoid(model(torch.tensor(np.c_[xx.ravel(), yy.ravel()], dtype=torch.float32))).reshape(xx.shape)\n",
    "    #torch.save(de_elbo_preds, 'classification_de_elbo_preds.pt')"
   ]
  },
  {
   "cell_type": "code",
   "execution_count": 34,
   "metadata": {},
   "outputs": [
    {
     "name": "stderr",
     "output_type": "stream",
     "text": [
      "100%|██████████| 10000/10000 [00:34<00:00, 292.92it/s]\n",
      "100%|██████████| 10000/10000 [00:39<00:00, 253.48it/s]\n",
      "100%|██████████| 10000/10000 [00:32<00:00, 303.52it/s]\n",
      "100%|██████████| 10000/10000 [00:39<00:00, 255.78it/s]\n"
     ]
    }
   ],
   "source": [
    "model = layers.RandomFeatureGaussianProcess(in_features=2, out_features=1, learnable_lengthscale=True, learnable_outputscale=True)\n",
    "model.sigma_param = torch.nn.Parameter(torch.log(torch.expm1(torch.tensor(1e-4)))*torch.randn((1024,)))\n",
    "utils.add_variational_layers(model, model.sigma_param)\n",
    "model.use_posterior = types.MethodType(utils.use_posterior, model)\n",
    "criterion = losses.KappaELBoLoss(1.0, model.sigma_param, criterion=torch.nn.BCEWithLogitsLoss())\n",
    "\n",
    "init_state_dict = model.state_dict()\n",
    "best_state_dict = None\n",
    "best_metric = np.inf\n",
    "\n",
    "for lr, weight_decay in itertools.product([0.1, 0.01, 0.001, 0.0001], [0.0]):\n",
    "    \n",
    "    model.load_state_dict(init_state_dict)\n",
    "    optimizer = torch.optim.Adam(model.parameters(), lr=lr, weight_decay=weight_decay)\n",
    "    \n",
    "    for epoch in tqdm.tqdm(range(10_000)):\n",
    "        train_metrics = train_one_epoch(model, criterion, optimizer, X, y, 1)\n",
    "\n",
    "    if train_metrics['loss'] < best_metric:\n",
    "        best_state_dict = model.state_dict()\n",
    "        best_metric = train_metrics['loss']\n",
    "        \n",
    "model.load_state_dict(best_state_dict)\n",
    "model.eval()\n",
    "\n",
    "with torch.no_grad():\n",
    "    xx, yy = np.meshgrid(np.arange(-1.4, 2.5, 0.05), np.arange(-0.9, 1.5, 0.05))\n",
    "    de_elbo_preds2 = torch.nn.functional.sigmoid(model(torch.tensor(np.c_[xx.ravel(), yy.ravel()], dtype=torch.float32))).reshape(xx.shape)\n",
    "    #torch.save(de_elbo_preds, 'classification_de_elbo_preds.pt')"
   ]
  },
  {
   "cell_type": "code",
   "execution_count": 73,
   "metadata": {},
   "outputs": [
    {
     "name": "stderr",
     "output_type": "stream",
     "text": [
      "  1%|          | 108/10000 [01:16<1:56:46,  1.41it/s]\n",
      "\n",
      "KeyboardInterrupt\n",
      "\n"
     ]
    }
   ],
   "source": [
    "model = layers.RandomFeatureGaussianProcess(in_features=2, out_features=1, learnable_lengthscale=True, learnable_outputscale=True)\n",
    "model.sigma_param = torch.nn.Parameter(torch.log(torch.expm1(torch.tensor(1e-4)))*torch.randn((1024, 1024,)))\n",
    "utils.add_variational_layers(model, model.sigma_param)\n",
    "model.use_posterior = types.MethodType(utils.use_posterior, model)\n",
    "criterion = losses.KappaELBoLoss(1.0, model.sigma_param, criterion=torch.nn.BCEWithLogitsLoss())\n",
    "\n",
    "init_state_dict = model.state_dict()\n",
    "best_state_dict = None\n",
    "best_metric = np.inf\n",
    "\n",
    "for lr, weight_decay in itertools.product([0.1, 0.01, 0.001, 0.0001], [0.0]):\n",
    "    \n",
    "    model.load_state_dict(init_state_dict)\n",
    "    optimizer = torch.optim.Adam(model.parameters(), lr=lr, weight_decay=weight_decay)\n",
    "    \n",
    "    for epoch in tqdm.tqdm(range(10_000)):\n",
    "        train_metrics = train_one_epoch(model, criterion, optimizer, X, y, 5)\n",
    "\n",
    "        if train_metrics['loss'] < best_metric:\n",
    "            best_state_dict = model.state_dict()\n",
    "            best_metric = train_metrics['loss']\n",
    "        \n",
    "model.load_state_dict(best_state_dict)\n",
    "model.eval()\n",
    "\n",
    "with torch.no_grad():\n",
    "    xx, yy = np.meshgrid(np.arange(-1.4, 2.5, 0.05), np.arange(-0.9, 1.5, 0.05))\n",
    "    de_elbo_preds2 = torch.nn.functional.sigmoid(model(torch.tensor(np.c_[xx.ravel(), yy.ravel()], dtype=torch.float32))).reshape(xx.shape)\n",
    "    #torch.save(de_elbo_preds, 'classification_de_elbo_preds.pt')"
   ]
  },
  {
   "cell_type": "code",
   "execution_count": 62,
   "metadata": {},
   "outputs": [
    {
     "data": {
      "text/plain": [
       "tensor([[7.7631e+01, 5.1917e+00, 1.6871e+01,  ..., 5.8810e-01, 8.2391e+00,\n",
       "         6.3244e-01],\n",
       "        [6.9316e-01, 7.7631e+01, 7.8045e+00,  ..., 3.7389e-01, 1.6898e+00,\n",
       "         1.4782e+00],\n",
       "        [6.9315e-01, 6.9313e-01, 7.7631e+01,  ..., 1.2538e-10, 2.2644e+00,\n",
       "         3.3055e+00],\n",
       "        ...,\n",
       "        [6.9312e-01, 6.9306e-01, 6.9310e-01,  ..., 7.7631e+01, 7.8489e+00,\n",
       "         8.9619e-04],\n",
       "        [6.9312e-01, 6.9307e-01, 6.9311e-01,  ..., 6.9320e-01, 7.7631e+01,\n",
       "         8.1111e-05],\n",
       "        [6.9311e-01, 6.9305e-01, 6.9310e-01,  ..., 6.9321e-01, 6.9307e-01,\n",
       "         7.7631e+01]], grad_fn=<SoftplusBackward0>)"
      ]
     },
     "execution_count": 62,
     "metadata": {},
     "output_type": "execute_result"
    }
   ],
   "source": [
    "torch.nn.functional.softplus(model.sigma_param)"
   ]
  },
  {
   "cell_type": "code",
   "execution_count": 74,
   "metadata": {},
   "outputs": [],
   "source": [
    "model.load_state_dict(best_state_dict)\n",
    "model.eval()\n",
    "\n",
    "with torch.no_grad():\n",
    "    model.use_posterior(True)\n",
    "    xx, yy = np.meshgrid(np.arange(-1.4, 2.5, 0.05), np.arange(-0.9, 1.5, 0.05))\n",
    "    logits = torch.stack([model(torch.tensor(np.c_[xx.ravel(), yy.ravel()], dtype=torch.float32)) for _ in range(100)])\n",
    "    de_elbo_preds2 = torch.nn.functional.sigmoid(logits.mean(dim=0)).reshape(xx.shape)\n",
    "    #torch.save(de_elbo_preds, 'classification_de_elbo_preds.pt')"
   ]
  },
  {
   "cell_type": "code",
   "execution_count": 75,
   "metadata": {},
   "outputs": [
    {
     "data": {
      "image/png": "[encoded data removed]",
      "text/plain": [
       "<Figure size 2000x300 with 5 Axes>"
      ]
     },
     "metadata": {},
     "output_type": "display_data"
    }
   ],
   "source": [
    "colors = ['#1F77B4', '#5799C7', '#8FBBDA', '#C7DDED', '#FFFFFF', '#F5C9CA', '#EB9394', '#E15D5E', '#D62728']\n",
    "cmap = LinearSegmentedColormap.from_list('bwr', colors)\n",
    "\n",
    "xx, yy = np.meshgrid(np.arange(-1.4, 2.5, 0.05), np.arange(-0.9, 1.5, 0.05))\n",
    "\n",
    "ncols, nrows = 5, 1\n",
    "fig, axs = plt.subplots(figsize=(4*ncols, 3*nrows), ncols=ncols, nrows=nrows, sharex=True, sharey='row')\n",
    "\n",
    "axs[0].scatter(X_numpy[:,0][y_numpy==0], X_numpy[:,1][y_numpy==0], color='#1F77B4')\n",
    "axs[0].scatter(X_numpy[:,0][y_numpy==1], X_numpy[:,1][y_numpy==1], color='#D62728')\n",
    "#axs[0].contourf(xx, yy, de_elbo_preds1, alpha=0.3, cmap=cmap)\n",
    "axs[0].set_xlim([-1.4, 2.4])\n",
    "axs[0].set_ylim([-0.9, 1.4])\n",
    "axs[0].set_xlabel(r'$x_1$')\n",
    "axs[0].set_ylabel(r'$x_2$')\n",
    "\n",
    "axs[1].scatter(X_numpy[:,0][y_numpy==0], X_numpy[:,1][y_numpy==0], color='#1F77B4')\n",
    "axs[1].scatter(X_numpy[:,0][y_numpy==1], X_numpy[:,1][y_numpy==1], color='#D62728')\n",
    "axs[1].contourf(xx, yy, de_elbo_preds2, alpha=0.3, cmap=cmap)\n",
    "axs[1].set_xlim([-1.4, 2.4])\n",
    "axs[1].set_ylim([-0.9, 1.4])\n",
    "axs[1].set_xlabel(r'$x_1$')\n",
    "\n",
    "axs[2].scatter(X_numpy[:,0][y_numpy==0], X_numpy[:,1][y_numpy==0], color='#1F77B4')\n",
    "axs[2].scatter(X_numpy[:,0][y_numpy==1], X_numpy[:,1][y_numpy==1], color='#D62728')\n",
    "#axs[2].contourf(xx, yy, de_elbo_preds3, alpha=0.3, cmap=cmap)\n",
    "axs[2].set_xlim([-1.4, 2.4])\n",
    "axs[2].set_ylim([-0.9, 1.4])\n",
    "axs[2].set_xlabel(r'$x_1$')\n",
    "\n",
    "axs[3].scatter(X_numpy[:,0][y_numpy==0], X_numpy[:,1][y_numpy==0], color='#1F77B4')\n",
    "axs[3].scatter(X_numpy[:,0][y_numpy==1], X_numpy[:,1][y_numpy==1], color='#D62728')\n",
    "#axs[3].contourf(xx, yy, de_elbo_preds4, alpha=0.3, cmap=cmap)\n",
    "axs[3].set_xlim([-1.4, 2.4])\n",
    "axs[3].set_ylim([-0.9, 1.4])\n",
    "axs[3].set_xlabel(r'$x_1$')\n",
    "\n",
    "axs[4].scatter(X_numpy[:,0][y_numpy==0], X_numpy[:,1][y_numpy==0], color='#1F77B4')\n",
    "axs[4].scatter(X_numpy[:,0][y_numpy==1], X_numpy[:,1][y_numpy==1], color='#D62728')\n",
    "#axs[4].contourf(xx, yy, de_elbo_preds5, alpha=0.3, cmap=cmap)\n",
    "axs[4].set_xlim([-1.4, 2.4])\n",
    "axs[4].set_ylim([-0.9, 1.4])\n",
    "axs[4].set_xlabel(r'$x_1$')\n",
    "\n",
    "fig.tight_layout()\n",
    "fig.savefig('classification_demo.pdf', bbox_inches='tight')\n",
    "plt.show()"
   ]
  },
  {
   "cell_type": "code",
   "execution_count": null,
   "metadata": {},
   "outputs": [],
   "source": []
  }
 ],
 "metadata": {
  "kernelspec": {
   "display_name": "l3d_2024f_cuda12_1",
   "language": "python",
   "name": "l3d_2024f_cuda12_1"
  },
  "language_info": {
   "codemirror_mode": {
    "name": "ipython",
    "version": 3
   },
   "file_extension": ".py",
   "mimetype": "text/x-python",
   "name": "python",
   "nbconvert_exporter": "python",
   "pygments_lexer": "ipython3",
   "version": "3.12.5"
  }
 },
 "nbformat": 4,
 "nbformat_minor": 2
}

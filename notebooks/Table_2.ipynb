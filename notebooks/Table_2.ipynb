{
 "cells": [
  {
   "cell_type": "code",
   "execution_count": 1,
   "metadata": {},
   "outputs": [],
   "source": [
    "import os\n",
    "import time\n",
    "import math\n",
    "import random\n",
    "import itertools\n",
    "import numpy as np\n",
    "import pandas as pd\n",
    "# PyTorch\n",
    "import torch\n",
    "import torchvision\n",
    "import torchmetrics"
   ]
  },
  {
   "cell_type": "code",
   "execution_count": 2,
   "metadata": {},
   "outputs": [],
   "source": [
    "import sys\n",
    "sys.path.append('../src/')\n",
    "\n",
    "%load_ext autoreload\n",
    "%autoreload 2\n",
    "# Importing our custom module(s)\n",
    "import losses\n",
    "import utils"
   ]
  },
  {
   "cell_type": "code",
   "execution_count": 6,
   "metadata": {},
   "outputs": [
    {
     "data": {
      "text/html": [
       "<div>\n",
       "<style scoped>\n",
       "    .dataframe tbody tr th:only-of-type {\n",
       "        vertical-align: middle;\n",
       "    }\n",
       "\n",
       "    .dataframe tbody tr th {\n",
       "        vertical-align: top;\n",
       "    }\n",
       "\n",
       "    .dataframe thead th {\n",
       "        text-align: right;\n",
       "    }\n",
       "</style>\n",
       "<table border=\"1\" class=\"dataframe\">\n",
       "  <thead>\n",
       "    <tr style=\"text-align: right;\">\n",
       "      <th></th>\n",
       "      <th>avg_sec/epoch</th>\n",
       "      <th>method</th>\n",
       "      <th>model_name</th>\n",
       "      <th>n</th>\n",
       "      <th>random_state</th>\n",
       "      <th>runtime</th>\n",
       "      <th>val_acc</th>\n",
       "      <th>val_nll</th>\n",
       "    </tr>\n",
       "  </thead>\n",
       "  <tbody>\n",
       "    <tr>\n",
       "      <th>0</th>\n",
       "      <td>0.262689</td>\n",
       "      <td>l2-sp</td>\n",
       "      <td>l2-sp_lr_0=0.1_n=100_random_state=1001_tau=0.01</td>\n",
       "      <td>100</td>\n",
       "      <td>1001</td>\n",
       "      <td>1576.135183</td>\n",
       "      <td>0.45</td>\n",
       "      <td>1.874081</td>\n",
       "    </tr>\n",
       "    <tr>\n",
       "      <th>1</th>\n",
       "      <td>0.247174</td>\n",
       "      <td>l2-sp</td>\n",
       "      <td>l2-sp_lr_0=0.1_n=100_random_state=1001_tau=0.001</td>\n",
       "      <td>100</td>\n",
       "      <td>1001</td>\n",
       "      <td>1483.043704</td>\n",
       "      <td>0.20</td>\n",
       "      <td>6.743123</td>\n",
       "    </tr>\n",
       "    <tr>\n",
       "      <th>2</th>\n",
       "      <td>0.246002</td>\n",
       "      <td>l2-sp</td>\n",
       "      <td>l2-sp_lr_0=0.1_n=100_random_state=1001_tau=0.0001</td>\n",
       "      <td>100</td>\n",
       "      <td>1001</td>\n",
       "      <td>1476.009241</td>\n",
       "      <td>0.20</td>\n",
       "      <td>6.849158</td>\n",
       "    </tr>\n",
       "    <tr>\n",
       "      <th>3</th>\n",
       "      <td>0.244324</td>\n",
       "      <td>l2-sp</td>\n",
       "      <td>l2-sp_lr_0=0.1_n=100_random_state=1001_tau=1e-05</td>\n",
       "      <td>100</td>\n",
       "      <td>1001</td>\n",
       "      <td>1465.942561</td>\n",
       "      <td>0.05</td>\n",
       "      <td>10.149165</td>\n",
       "    </tr>\n",
       "    <tr>\n",
       "      <th>4</th>\n",
       "      <td>0.244776</td>\n",
       "      <td>l2-sp</td>\n",
       "      <td>l2-sp_lr_0=0.1_n=100_random_state=1001_tau=1e-06</td>\n",
       "      <td>100</td>\n",
       "      <td>1001</td>\n",
       "      <td>1468.657881</td>\n",
       "      <td>0.15</td>\n",
       "      <td>12.602262</td>\n",
       "    </tr>\n",
       "  </tbody>\n",
       "</table>\n",
       "</div>"
      ],
      "text/plain": [
       "   avg_sec/epoch method                                         model_name  \\\n",
       "0       0.262689  l2-sp    l2-sp_lr_0=0.1_n=100_random_state=1001_tau=0.01   \n",
       "1       0.247174  l2-sp   l2-sp_lr_0=0.1_n=100_random_state=1001_tau=0.001   \n",
       "2       0.246002  l2-sp  l2-sp_lr_0=0.1_n=100_random_state=1001_tau=0.0001   \n",
       "3       0.244324  l2-sp   l2-sp_lr_0=0.1_n=100_random_state=1001_tau=1e-05   \n",
       "4       0.244776  l2-sp   l2-sp_lr_0=0.1_n=100_random_state=1001_tau=1e-06   \n",
       "\n",
       "     n  random_state      runtime  val_acc    val_nll  \n",
       "0  100          1001  1576.135183     0.45   1.874081  \n",
       "1  100          1001  1483.043704     0.20   6.743123  \n",
       "2  100          1001  1476.009241     0.20   6.849158  \n",
       "3  100          1001  1465.942561     0.05  10.149165  \n",
       "4  100          1001  1468.657881     0.15  12.602262  "
      ]
     },
     "execution_count": 6,
     "metadata": {},
     "output_type": "execute_result"
    }
   ],
   "source": [
    "dataset = 'CIFAR-10'\n",
    "tuned_df = pd.read_csv(f'/cluster/home/eharve06/informed-priors/notebooks/tuned_{dataset}.csv')\n",
    "retrained_df = pd.read_csv(f'/cluster/home/eharve06/informed-priors/notebooks/retrained_{dataset}.csv')\n",
    "tuned_df.head()"
   ]
  },
  {
   "cell_type": "code",
   "execution_count": 17,
   "metadata": {},
   "outputs": [],
   "source": [
    "def format_time(seconds):\n",
    "    hours = seconds // 3600\n",
    "    minutes = (seconds % 3600) // 60\n",
    "    seconds = seconds % 60\n",
    "    return f\"{hours} hrs. {minutes} mins. {seconds} secs.\""
   ]
  },
  {
   "cell_type": "code",
   "execution_count": 28,
   "metadata": {},
   "outputs": [
    {
     "name": "stdout",
     "output_type": "stream",
     "text": [
      "Average runtime (sec.): 2351.4882265925407\n",
      "Total time (sec.): 58555.35243535042\n"
     ]
    }
   ],
   "source": [
    "condition = (tuned_df.n==50000)&(tuned_df.method=='l2-sp')&(tuned_df.random_state==1001)\n",
    "temp_df = tuned_df.loc[condition]\n",
    "total_time = temp_df.runtime.sum()\n",
    "best_model_name = temp_df.loc[temp_df.val_nll.idxmin(), 'model_name']\n",
    "test_acc = retrained_df.loc[retrained_df.model_name==best_model_name, 'test_acc'].item()\n",
    "total_time += retrained_df.loc[retrained_df.model_name==best_model_name, 'runtime'].item()\n",
    "print(f'Average runtime (sec.): {temp_df.runtime.mean()}')\n",
    "print(f'Total time (sec.): {total_time}')"
   ]
  },
  {
   "cell_type": "code",
   "execution_count": 29,
   "metadata": {},
   "outputs": [
    {
     "name": "stdout",
     "output_type": "stream",
     "text": [
      "Average runtime (sec.): 2234.773100433747\n",
      "Total time (sec.): 538565.2564959526\n"
     ]
    }
   ],
   "source": [
    "condition = (tuned_df.n==50000)&(tuned_df.method=='ptyl')&(tuned_df.random_state==1001)\n",
    "temp_df = tuned_df.loc[condition]\n",
    "total_time = temp_df.runtime.sum()\n",
    "best_model_name = temp_df.loc[temp_df.val_nll.idxmin(), 'model_name']\n",
    "test_acc = retrained_df.loc[retrained_df.model_name==best_model_name, 'test_acc'].item()\n",
    "total_time += retrained_df.loc[retrained_df.model_name==best_model_name, 'runtime'].item()\n",
    "print(f'Average runtime (sec.): {temp_df.runtime.mean()}')\n",
    "print(f'Total time (sec.): {total_time}')"
   ]
  },
  {
   "cell_type": "code",
   "execution_count": 22,
   "metadata": {},
   "outputs": [],
   "source": [
    "experiments_directory = '/cluster/tufts/hugheslab/eharve06/informed-priors/experiments/retrained_CIFAR-10_VI'\n",
    "lr_0s = [0.1, 0.01, 0.001, 0.0001]\n",
    "methods = ['l2-zero', 'l2-sp', 'ptyl']\n",
    "ns = [100, 1000, 10000, 50000]\n",
    "random_states = [1001, 2001, 3001]\n",
    "\n",
    "columns = ['avg_sec/epoch', 'method', 'model_name', 'n', 'random_state', 'runtime', 'train_loss', 'test_acc', 'test_nll']\n",
    "results_df = pd.DataFrame(columns=columns)\n",
    "\n",
    "for lr_0, method, n, random_state in itertools.product(lr_0s, methods, ns, random_states):\n",
    "    model_name = f'{method}_kappa={23528522/n}_lr_0={lr_0}_n={n}_random_state={random_state}'\n",
    "    temp_df = pd.read_csv(f'{experiments_directory}/{model_name}.csv')\n",
    "    row = [temp_df['train_sec/epoch'].mean(), method, model_name, n, random_state, temp_df['train_sec/epoch'].sum(), temp_df.train_loss.values[-1], temp_df.val_or_test_acc.values[-1], temp_df.val_or_test_nll.values[-1]]\n",
    "    results_df.loc[len(results_df)] = row"
   ]
  },
  {
   "cell_type": "code",
   "execution_count": 25,
   "metadata": {},
   "outputs": [
    {
     "name": "stdout",
     "output_type": "stream",
     "text": [
      "Average runtime (sec.): 0.0 hrs. 39.0 mins. 0.16479343175888062 secs.\n",
      "Total time (sec.): 2.0 hrs. 36.0 mins. 0.6591737270355225 secs.\n"
     ]
    }
   ],
   "source": [
    "condition = (results_df.n==50000)&(results_df.method=='l2-sp')&(results_df.random_state==1001)\n",
    "temp_df = results_df.loc[condition]\n",
    "total_time = temp_df.runtime.sum()\n",
    "print(f'Average runtime (sec.): {temp_df.runtime.mean()}')\n",
    "print(f'Total time (sec.): {total_time}')"
   ]
  },
  {
   "cell_type": "code",
   "execution_count": 27,
   "metadata": {},
   "outputs": [
    {
     "name": "stdout",
     "output_type": "stream",
     "text": [
      "Average runtime (sec.): 2399.5411801338196\n",
      "Total time (sec.): 9598.164720535278\n"
     ]
    }
   ],
   "source": [
    "condition = (results_df.n==50000)&(results_df.method=='ptyl')&(results_df.random_state==1001)\n",
    "temp_df = results_df.loc[condition]\n",
    "total_time = temp_df.runtime.sum()\n",
    "print(f'Average runtime (sec.): {temp_df.runtime.mean()}')\n",
    "print(f'Total time (sec.): {total_time}')"
   ]
  },
  {
   "cell_type": "code",
   "execution_count": null,
   "metadata": {},
   "outputs": [],
   "source": []
  }
 ],
 "metadata": {
  "kernelspec": {
   "display_name": "bdl-transfer-learning",
   "language": "python",
   "name": "bdl-transfer-learning"
  },
  "language_info": {
   "codemirror_mode": {
    "name": "ipython",
    "version": 3
   },
   "file_extension": ".py",
   "mimetype": "text/x-python",
   "name": "python",
   "nbconvert_exporter": "python",
   "pygments_lexer": "ipython3",
   "version": "3.8.0"
  }
 },
 "nbformat": 4,
 "nbformat_minor": 2
}
